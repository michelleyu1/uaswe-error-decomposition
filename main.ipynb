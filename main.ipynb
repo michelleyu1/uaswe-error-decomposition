{
 "cells": [
  {
   "cell_type": "markdown",
   "id": "f2002dfd-68af-4385-8592-e8e93cb8b023",
   "metadata": {},
   "source": [
    "# Decomposing Errors in Gridded Snow Water Equivalent Products in the Upper Colorado River Basin"
   ]
  },
  {
   "cell_type": "code",
   "execution_count": null,
   "id": "60e23dd5-ce3f-4539-b4f9-1a155cfb094c",
   "metadata": {},
   "outputs": [],
   "source": [
    "import pandas as pd\n",
    "from IPython.display import Image"
   ]
  },
  {
   "cell_type": "markdown",
   "id": "fe01de61-5954-47d4-a941-9896b69cd178",
   "metadata": {},
   "source": [
    "## Introduction & Background"
   ]
  },
  {
   "cell_type": "markdown",
   "id": "2306f925-cfef-4510-8819-f51401502ba2",
   "metadata": {},
   "source": [
    "Because mountain snowpack and its melt dominate the surface hydrology of many regions, seasonal snowpack is an important water resource. It has strong implications for water supply, hydropower, ecological processes, weather, recreation, and regional and global climate. Seasonal snowpack is quantified through snow water equivalent, or SWE. Formally, SWE is the amount of liquid water in a snowpack that would be formed if the snowpack were completely melted.\n",
    "\n",
    "Formally, SWE is the amount of liquid water in a snowpack that would be formed if the snowpack were completely melted.\n",
    "Information on SWE is essential for water resource management (e.g. flood forecasting, reservoir management, irrigation scheduling), largely grounded in the economic and safety benefits of water management, is required for validating snow models and GCM snow-cover simulations, and is necessary for climate change monitoring and detection. \n",
    "Water from snowpack provides up to $348 billion a year in economic benefit in the WUS.\n",
    "Given the importance of SWE, efforts have been made to directly collect data on SWE and related quantities."
   ]
  },
  {
   "cell_type": "markdown",
   "id": "81df2daa-2e0a-401f-86d8-ff8feb15bf06",
   "metadata": {},
   "source": [
    "### Annual Cycle of SWE"
   ]
  },
  {
   "cell_type": "markdown",
   "id": "a6976751-2a4d-45c8-bf28-595b6972f825",
   "metadata": {},
   "source": [
    "The annual cycle of SWE is characterized by a snow accumulation period and a snow melt period. One way of characterizing the snow accumulation and snow melt periods, as introduced and described by Trujillo and Molotch (2014) and Rhoades, Jones, and Ullrich (2018), is by defining a snowpack accumulation start date (SAD), peak SWE date, and a complete snowmelt date (CMD). The following can be defined:\n",
    "* **Snowpack Accumulation Start Date (SAD)**: first day when SWE $\\geq$ 10% of maximum SWE, taken as the beginning of the accumulation season.\n",
    "* **Peak SWE (SPD)**: Day of maximum SWE.\n",
    "* **March 1 SWE** and **April 1 SWE**: Sometimes used as proxies for peak SWE by some communities as a standardized date for comparing peak SWE across years and locations. While somewhat arbitrary, this date results from monthly manual snow surveys established early in the twentieth century and is codified into water management as an indicator of warm season streamflow (Siirla Woodburn & Rhoades et al.)\n",
    "* **Complete Melt Date (CMD)**: first day when SWE $\\leq$ 10% of maximum SWE, taken as the end of the melt season."
   ]
  },
  {
   "cell_type": "code",
   "execution_count": null,
   "id": "01ddb239-1707-4940-8c34-40133a359830",
   "metadata": {},
   "outputs": [],
   "source": [
    "# Figure of SWE annual cycle \n"
   ]
  },
  {
   "cell_type": "markdown",
   "id": "d73600d1-1b59-4201-b6d8-2696e864d46e",
   "metadata": {},
   "source": [
    "### SWE Datasets"
   ]
  },
  {
   "cell_type": "markdown",
   "id": "1c07b1f2-3651-4452-b26d-304f1fc29bc9",
   "metadata": {},
   "source": [
    "#### Observations"
   ]
  },
  {
   "cell_type": "markdown",
   "id": "b2e895d3-147c-40d3-b384-4f79d8d88905",
   "metadata": {},
   "source": [
    "Some main observation data networks that measure SWE include: \n",
    "* **SNOTEL**: Takes measurements of SWE, SD, T, P\n",
    "SWE is measured using snow pillows, P measured using gage, and T and SD measured via sensors.\n",
    "* **ASO**: Airborne measurements converted to SWE\n",
    "Snow depth and snow density information is derived from data, on variables such as albedo, collected using an image spectrometer and scanning lidar system during flights. SWE is then obtained from combining the SD and snow density information into a model. \n",
    "* **NOAA NOHRSC**:\n",
    "SWE and SD data derived from ground, airborne, and satellite data from multiple sources as inputs into a land surface model for snow and soil & a snow data assimilation system\n",
    "* **CSO**: \n",
    "SD measured by citizen scientists using snow probes during personal excursions\n",
    "SWE is then simulated by a snow model that takes as input CSO SD data and other relevant covariates."
   ]
  },
  {
   "cell_type": "markdown",
   "id": "30e877f4-cde1-454e-8df7-9d5ebf4bb105",
   "metadata": {},
   "source": [
    "While observation data provide incredible value, as they provide true groundtruth data, there exist some limitations. First, measurement errors inevitably occur, as mishaps with sensors or other equipment happen from time to time. Second, spatiotemporal gaps exist, since measurements taken at single point locations are intrinsically limited by a lack of confidence in how they capture the landscape mean across coarse grid cells (Meromy et al., 2012), which is particularly problematic in areas of mixed forest vegetation, open areas prone to wind redistribution, and complex topography (most snow-covered regions fall into at least one of these categories).\n",
    "\n",
    "To address these limitations, measurement bias correction methods and gridded products have been developed. Specifically, gridded products are developed using statistical and model-based methods that combine point-level observations and/or outputs from atmospheric reanalyses to produce spatially and temporally consistent SWE data."
   ]
  },
  {
   "cell_type": "markdown",
   "id": "db7f154e-bbe5-4ac3-9db9-8b01e67e600a",
   "metadata": {},
   "source": [
    "#### Gridded Products"
   ]
  },
  {
   "cell_type": "markdown",
   "id": "e870c556-161e-4bbb-ac93-61a64d65978a",
   "metadata": {},
   "source": [
    "Some commonly used SWE gridded products include:\n",
    "* **Livneh**\n",
    "One-sentence description of generating method: Interpolate and scale precipitation and temperature observations and then feed the processed precipitation and temperature data as well as wind data into a land surface model. \n",
    "~6km spatial resolution, spanning Mexico, CONUS, and South Canada.\n",
    "Daily time scale, 1985-2013 [1985-2020 for L21]\n",
    "* **UofA**\n",
    "One-sentence description of generating method: Scale interpolate scaled SWE observations with temperature and precipitation data.\n",
    "4km spatial resolution, spanning CONUS.\n",
    "Daily time scale, 1982-2016\n",
    "* **ERA5**\n",
    "One-sentence description of generating method: Feeds into a land surface model many sources of satellite and in-situ data \n",
    "31km spatial resolution, spanning North America.\n",
    "Hourly time scale, with daily update, 1979-2014\n",
    "* **UCLA WUS SR**\n",
    "One-sentence description of generating method: Bayesian reanalysis\n",
    "90m spatial resolution, spanning the Western US\n",
    "Daily time scale, 1985-2019"
   ]
  },
  {
   "cell_type": "markdown",
   "id": "eabb11dc-b7cd-4d2c-a7d7-c9a6d1473a39",
   "metadata": {},
   "source": [
    "Gridded products are immensely useful; however, there still exist limitations. First, many methods, such as Livneh and UA SWE, that utilize point measurements include some kind of smoothing or interpolation in the gridding process. These assumptions add additional uncertainty, at times up to 60% of differences observed in estimates of Western US wide peak SWE (Siirla, Rhoades, et al. (2019)). Furthermore, methods, such as Livneh and ERA5, utilize a physical model in the gridding procedure. The use of such models also adds uncertainty and error to the final estimates. Additionally, spatial variability in SWE due to topographic and land cover heterogeneity cannot be adequately captured by data with relatively coarse spatial resolution. Related to the relatively coarse spatial resolution, another limitation lies in the limited ability of gridded products to estimate extremes.  "
   ]
  },
  {
   "cell_type": "markdown",
   "id": "58ccf207-8e90-4673-9d0c-dd3f2ae86633",
   "metadata": {},
   "source": [
    "## Objective"
   ]
  },
  {
   "cell_type": "markdown",
   "id": "3e39b744-01ce-4ad6-a976-939ced1e8e8b",
   "metadata": {},
   "source": [
    "Given the importance of spatially and temporally consistent estimates of SWE and the uncertainty in estimates across SWE products, our goal is to investigate, quantify, and importantly decompose the sources of error underlying gridded products, starting with UA SWE as it is relatively intuitive in the UCRB for the 1985-2015 WY.\n",
    "\n",
    "Specifically, we organize the study as follows: first, we reconstruct the UA SWE algorithm from scratch, as the code is not ready to be made publicly available, then we conduct a sensitivity analysis on the UA SWE product to understand the relative importance of major components in UA SWE, and finally we develop a error decomposition to quantify the amount of error attributed by each of the major components in UA SWE."
   ]
  },
  {
   "cell_type": "code",
   "execution_count": null,
   "id": "d5376f36-205e-455e-a246-cd2485968608",
   "metadata": {},
   "outputs": [],
   "source": [
    "# Mathematical formulation of objective"
   ]
  },
  {
   "cell_type": "markdown",
   "id": "ec5901a1-c916-4e2f-b3ac-768cc943b3dd",
   "metadata": {},
   "source": [
    "## Study Area"
   ]
  },
  {
   "cell_type": "markdown",
   "id": "a2cf946b-177c-4fe0-a7dd-f8ba8dd65e8b",
   "metadata": {},
   "source": [
    "We focus our study on the Upper Colorado River Basin (UCRB), a river network spanning (northern) Arizona, (western) Colorado, (northern) New Mexico, (eastern) Utah, and (southern) Wyoming.\n",
    "\n",
    "The reason for our decision to focus our study on the UCRB region is two-fold:\n",
    "1) The importance of the UCRB in providing water resources:\n",
    "Most important water source for the US Southwest: Provides water to nearly 40 million people (primarily through winter snowpack)\n",
    "Drives a $1.4 trillion economy, including for agricultural, industrial, and recreational use (~7th largest country by economic output)\n",
    "The river's natural flow is highly influenced by snowpack in the Rocky Mountain headwaters subbasins, which account for over 70% of the river's annual streamflow (Li et al. (2017), Xiao et al. (2021))\n",
    "2) Several data collection campaigns have been launched in recent years in various parts of the UCRB, specifically the DOE SAIL and SPLASH campaigns that provide high quality state-of-the-art observation temperature and precipitation data that we hope to leverage in the future, as well as the ASO data mentioned previously that produce fine-grain data in certain watersheds within the UCRB."
   ]
  },
  {
   "cell_type": "code",
   "execution_count": null,
   "id": "35df315d-bb2c-498a-ab32-6f3e5de6a7d5",
   "metadata": {},
   "outputs": [],
   "source": [
    "# Figure of UCRB map\n"
   ]
  },
  {
   "cell_type": "markdown",
   "id": "5e1367c3-3788-48fe-9fae-90c3ef8d3d60",
   "metadata": {},
   "source": [
    "## Data"
   ]
  },
  {
   "cell_type": "markdown",
   "id": "28965ff7-95ea-4181-9a1e-64786569ae32",
   "metadata": {},
   "source": [
    "The UA SWE product combines **SNOTEL** in-situ temperature, precipitation, and SWE data, with **PRISM** gridded temperature and precipitation data to produce gridded SWE estimates at daily 4km x 4km resolution."
   ]
  },
  {
   "cell_type": "code",
   "execution_count": null,
   "id": "a7a6d74b-a854-4a50-8e5a-0f1c61ff4ace",
   "metadata": {},
   "outputs": [],
   "source": [
    "# Plot of SNOTEL and PRISM for the UCRB\n"
   ]
  },
  {
   "cell_type": "markdown",
   "id": "6a120a51-676b-4ef8-93b3-d3a0745ab51a",
   "metadata": {},
   "source": [
    "In our error analysis, we also take advantage of the following datasets:\n",
    "* **GridMET**\n",
    "* **Livneh**\n",
    "* **Jennings**"
   ]
  },
  {
   "cell_type": "code",
   "execution_count": null,
   "id": "dfb5f080-1e3a-4a99-b069-5595d77e2016",
   "metadata": {},
   "outputs": [],
   "source": [
    "# Plots of PRISM/Gridmet/Livneh and Jennings\n"
   ]
  },
  {
   "cell_type": "markdown",
   "id": "737bf0b0-990f-46f1-8128-e9a7b033edf2",
   "metadata": {},
   "source": [
    "## Methods: UA SWE Reconstruction"
   ]
  },
  {
   "cell_type": "markdown",
   "id": "42aee4c6-c286-4c77-9bc4-475ab8f31e8c",
   "metadata": {},
   "source": [
    "### UA SWE Reconstruction"
   ]
  },
  {
   "cell_type": "markdown",
   "id": "e881b3b6-5197-49a0-95d9-f4c96ce66945",
   "metadata": {},
   "source": [
    "Let:\n",
    "* $o$ : observation\n",
    "* $w$ : net snowfall\n",
    "* $a$ : snow accumulation\n",
    "* $b$ : snow ablation\n",
    "* $\\phi$ : interpolation (ordinary kriging with spherical variogram, range = 20km, sill = 0.2, and nugget = 0)\n",
    "\n",
    "Under the UA SWE algorithm, SWE is estimated by:\n",
    "$$\n",
    "\\begin{align} \n",
    "\\text{UA SWE} & = \\phi \\left(\\frac{o_{SNTL}}{w_{SNTL}}\\right) (w_{PRISM}) \\\\\n",
    "& = \\phi \\left(\\frac{o_{SNTL}}{a_{SNTL} - b_{SNTL}}\\right) (a_{PRISM} - b_{PRISM}) \n",
    "\\end{align}\n",
    "$$\n",
    "\n",
    "Defining $S$ as snowfall and $d$ as cumulative degree days, snow accumulation $a$ and snow ablation $b$ are defined by:\n",
    "$$ a = \\sum_{t=0}^{t_{max}} S_t $$\n",
    "$$ b = \\hat{\\beta}_0 + \\hat{\\beta}_1 d + \\hat{\\beta}_2 d^2 $$\n",
    "\n",
    "Occurrance of snowfall $s$ on each day is determined by a rain-snow partitioning, $Th$, which relies on SWE or temperature $T$. Snowfall quantity is dependent on precipitation $P$. \n",
    "\n",
    "In the case of SNOTEL, the partitioning depends on SWE:\n",
    "$$\n",
    "\\begin{equation}\n",
    "S = \n",
    "    \\begin{cases}\n",
    "        P & \\text{if SWE$_t$ $<$ SWE$_{t-1}$} \\\\\n",
    "        0 & \\text{else} \n",
    "    \\end{cases}\n",
    "\\end{equation}\n",
    "$$\n",
    "\n",
    "For PRISM, the partitioning is based on temperature:\n",
    "$$\n",
    "\\begin{equation}\n",
    "S = \n",
    "    \\begin{cases}\n",
    "        P & \\text{if $T < 2^\\circ$C} \\\\\n",
    "        0 & \\text{else} \n",
    "    \\end{cases}\n",
    "\\end{equation}\n",
    "$$"
   ]
  },
  {
   "cell_type": "markdown",
   "id": "62e38f12-b374-4589-8ac6-901f43d18b2e",
   "metadata": {},
   "source": [
    "In words, the UA SWE product estimates SWE by "
   ]
  },
  {
   "cell_type": "code",
   "execution_count": null,
   "id": "f5ae2f97-dc32-4ba6-abc5-005492c544c1",
   "metadata": {},
   "outputs": [],
   "source": [
    "# Some plots of reconstrcted UA SWE\n"
   ]
  },
  {
   "cell_type": "markdown",
   "id": "fd1b1e2b-77f4-4401-beef-dc16461dc010",
   "metadata": {},
   "source": [
    "#### Filling in the Gaps"
   ]
  },
  {
   "cell_type": "markdown",
   "id": "2dd14b9b-7059-4ad6-8949-1cd0081aa1cf",
   "metadata": {},
   "source": []
  },
  {
   "cell_type": "markdown",
   "id": "b2ebe279-eb58-40cb-abac-a1f757396b75",
   "metadata": {},
   "source": [
    "### Components / Sources of Uncertainty"
   ]
  },
  {
   "cell_type": "markdown",
   "id": "872b8c94-b746-441f-a061-1586531f877a",
   "metadata": {},
   "source": [
    "To understand the relative importance and impact of the different components that make up the SWE estimates derived from the UA SWE algorithm, we first identify the major components or sources of uncertainty in the UA SWE algorithm. Because we are interested in evaluating the SWE estimates at sites where there is ground-truth observation data that can be used as a baseline for comparison, we keep SNOTEL point measurement data used in the UA algorithm fixed.\n",
    "\n",
    "Thus, outside of SNOTEL point measurement data, the main components in the UA SWE algorithm are temperature, precipitation, the rain-snow partitioning threshold, and the interpolation method used to smooth the SNOTEL ratio. We substitute different datasets or schemes for each of these main components and re-run the algorithm to produce SWE estimates at both the site- and grid- level. We substitute PRISM precipitation and temperature with Gridmet and Livneh, the fixed $2^\\circ$C rain-snow partitioning temperature threshold with the dynamic Jennings threshold, and the default ordinary kriging with inverse distance weighting as well as ordinary kriging with a nonzero nugget. The following table summarizes the major components and substitutions."
   ]
  },
  {
   "cell_type": "markdown",
   "id": "ef39734f-f523-4173-9f47-b860b8374b49",
   "metadata": {},
   "source": [
    "| Component | Dataset |\n",
    "| :---: | :---: |\n",
    "| Precipitation (P) | PRISM | \n",
    "|  | GridMET | \n",
    "|  | Livneh |\n",
    "| Temperature (T) | PRISM | \n",
    "|  | GridMET | \n",
    "|  | Livneh |\n",
    "| Rain-Snow Partitioning Scheme (Th) | 2$^\\circ$C |\n",
    "|  | Jennings |\n",
    "| Interpolation ($\\phi$) | Ordinary Kriging (OK) |\n",
    "|  | Inverse Distance Weighting (IDW) | \n",
    "|  | Ordinary Kriging with Nonzero Nugget (OK+n) | "
   ]
  },
  {
   "cell_type": "code",
   "execution_count": null,
   "id": "71b488f0-0631-4a8f-844d-b7a9a9bbd51a",
   "metadata": {},
   "outputs": [],
   "source": [
    "# plots from runs\n"
   ]
  },
  {
   "cell_type": "markdown",
   "id": "4e7aab75-8de0-46a1-8fac-870802a928fe",
   "metadata": {},
   "source": [
    "## Results: Point-Level Analysis"
   ]
  },
  {
   "cell_type": "markdown",
   "id": "6def7fde-74d4-4768-b340-e0cc9d34ddcd",
   "metadata": {},
   "source": [
    "We first conduct a site- or point-level analysis to evaluate errors at the SNOTEL sites. The point-level analysis was conducted on results from runs that omit the interpolation of SNOTEL ratios, thus quantifying the effects of temperature, precipitation, and rain-snow partitioning threshold on UA SWE estimates."
   ]
  },
  {
   "cell_type": "markdown",
   "id": "891c2597-47b6-43e3-82c5-abe3592423bc",
   "metadata": {},
   "source": [
    "### Sensitivity Analysis"
   ]
  },
  {
   "cell_type": "markdown",
   "id": "ff89260e-e395-4b17-9579-50ec0192ff99",
   "metadata": {},
   "source": [
    "We use analysis of variance (ANOVA) to partition the total variance in the SWE estimates produced by the UA SWE algorithm. In other words, ANOVA is used to evaluate the contribution of each source of uncertainty to the total predicted uncertainty in UA SWE. \n",
    "\n",
    "ANOVA splits up the total sum of swquares (SST) into sums of squares due to the individual effects:"
   ]
  },
  {
   "cell_type": "markdown",
   "id": "a317518c-5ff1-4b73-90a8-877b807ba356",
   "metadata": {},
   "source": [
    "$$ SST = SS_{P} + SS_{T} + SS_{Th} + SSI $$"
   ]
  },
  {
   "cell_type": "markdown",
   "id": "d74ad229-b51e-4db7-939d-98797ca8209b",
   "metadata": {},
   "source": [
    "$$ \n",
    "\\begin{align}\n",
    "SST & = SS_{P} + SS_{T} + SS_{Th} && + && SSI \\\\\n",
    "& = \\text{main effects} && + && \\text{interatctions}\n",
    "\\end{align}\n",
    "$$"
   ]
  },
  {
   "cell_type": "markdown",
   "id": "857c2d7c-21d7-42ff-bd1d-1b84cd5573f6",
   "metadata": {},
   "source": [
    "Since the individual interaction we're particularly interested in is the precipitation and temperature interaction, we can write the above as follows:\n",
    "\n",
    "$$ \n",
    "\\begin{align}\n",
    "SST & = SS_{P} + SS_{T} + SS_{Th} && + && SS_{P:T} + SSI \\\\\n",
    "& = \\text{main effects} && + && \\text{interatctions}\n",
    "\\end{align}\n",
    "$$"
   ]
  },
  {
   "cell_type": "code",
   "execution_count": null,
   "id": "464b3a7c-c9c7-4c4a-8e33-bf90ddb0960a",
   "metadata": {},
   "outputs": [],
   "source": [
    "Image(filename = \"figures/anova_pt_lvl.png\", width=1000, height=1000)"
   ]
  },
  {
   "cell_type": "markdown",
   "id": "8ba32913-ad60-4ad7-a3c8-114d3a640e3b",
   "metadata": {},
   "source": [
    "### Error Decomposition"
   ]
  },
  {
   "cell_type": "markdown",
   "id": "0a866292-5854-4665-8dc0-8ce6c014ff94",
   "metadata": {},
   "source": [
    "To quantify the error contributed by each source of uncertainty, we focus on the PRISM net snowfall component in the UA SWE algorithm. We can think of the error decomposition setup as building blocks adding steps of error components. At the base is SNOTEL observed SWE, which equates to using SNOTEL T and P data instead of PRISM data to compute the PRISM net snowfall component (when the interpolation of SNOTEL ratios is ignored). The next step is the SWE as estimated by UA SWE, which equates to using PRISM T and P data to compute PRISM net snowfall. The next step beyond that consists of either using gridMET/Livneh T and/or P data instead of PRISM data, or using the variable Jennings rain-snow partitioning threshold instead of the $2^\\circ$C assumption, to compute the PRISM net snowfall component.\n",
    "\n",
    "This is illustrated in the figure below. "
   ]
  },
  {
   "cell_type": "code",
   "execution_count": null,
   "id": "58b65794-88ef-4d98-bf1a-138c79c4f534",
   "metadata": {},
   "outputs": [],
   "source": [
    "# Error decomposition steps plot\n"
   ]
  },
  {
   "cell_type": "markdown",
   "id": "5ef892cf-5599-4fbb-8054-e4417c5bbda7",
   "metadata": {},
   "source": [
    "For each step $i$, we compute the peak SWE error by comparing the estimated peak SWE from the step $i$ run to the estimated peak SWE from the step $i-1$ run. Mathematically:\n",
    "\n",
    "$$ \n",
    "\\epsilon_i = \\frac{\\hat{SWE}_{i} - \\hat{SWE}_{i-1}}{\\hat{SWE}_{i-1}}\n",
    "$$\n"
   ]
  },
  {
   "cell_type": "code",
   "execution_count": null,
   "id": "ca988908-78a7-403f-8458-84b300d6fa42",
   "metadata": {},
   "outputs": [],
   "source": [
    "Image(filename = \"figures/error_pt_lvl.png\", width=1000, height=1000)"
   ]
  },
  {
   "cell_type": "markdown",
   "id": "a5564c6c-d9bc-4807-8736-fdf28d85a773",
   "metadata": {},
   "source": [
    "## Results: Grid-Level Analysis"
   ]
  },
  {
   "cell_type": "markdown",
   "id": "662eda7e-90b7-40cf-bf39-41d9a24bc3fc",
   "metadata": {},
   "source": [
    "Next, we conduct a grid-level analysis to the effect of the SNOTEL ratio interpolation, which was skipped in the point-level analysis. The grid-level analysis quantifies the effect of ordinary kriging on UA SWE estimates."
   ]
  },
  {
   "cell_type": "markdown",
   "id": "014dd5e9-0b6d-4d7b-baf3-91d3ba471876",
   "metadata": {},
   "source": [
    "### Sensitivity Analysis"
   ]
  },
  {
   "cell_type": "markdown",
   "id": "33763eb7-e5d4-479d-b255-dec147b35a82",
   "metadata": {},
   "source": [
    "As in the point-level analysis, we use analysis of variance (ANOVA) to partition the total variance in the SWE estimates produced by the UA SWE algorithm. The only difference in the grid-level analysis is that kriging is included as a factor in the ANOVA setup.\n",
    "\n",
    "ANOVA splits up the total sum of swquares (SST) into sums of squares due to the individual effects (for the point-level analysis,"
   ]
  },
  {
   "cell_type": "markdown",
   "id": "b069c1fc-fd97-4e9c-baad-47ad138285c8",
   "metadata": {},
   "source": [
    "$$ SST = SS_{P} + SS_{T} + SS_{Th} + SS_{\\phi} + SSI $$"
   ]
  },
  {
   "cell_type": "code",
   "execution_count": null,
   "id": "b534b27d-0e2a-4a8c-923a-08e078157254",
   "metadata": {},
   "outputs": [],
   "source": []
  },
  {
   "cell_type": "code",
   "execution_count": null,
   "id": "62b197bd-f5af-40a5-a9c2-b68d4da304c8",
   "metadata": {},
   "outputs": [],
   "source": []
  },
  {
   "cell_type": "markdown",
   "id": "4b5c69c8-a09e-4c8a-aac9-0eb32e1fb259",
   "metadata": {},
   "source": [
    "### Error Decomposition"
   ]
  },
  {
   "cell_type": "markdown",
   "id": "c66b0d1e-6ceb-4a73-abfe-f4ff17ae3a74",
   "metadata": {},
   "source": [
    "To evaluate the effect of the UA SWE estimates on a grid-level, we include kriging in the generation of UA SWE and run the UA SWE algorithm substituting the various components including the kriging component. "
   ]
  },
  {
   "cell_type": "code",
   "execution_count": null,
   "id": "e50d639e-6d27-40b2-9fbe-f3bce35e2511",
   "metadata": {},
   "outputs": [],
   "source": []
  },
  {
   "cell_type": "code",
   "execution_count": null,
   "id": "ce7996c1-2f5f-4377-9dcc-4ceda4da275c",
   "metadata": {},
   "outputs": [],
   "source": []
  },
  {
   "cell_type": "markdown",
   "id": "987fd596-cc4f-4339-b5b1-63264a32b034",
   "metadata": {},
   "source": [
    "## Discussion"
   ]
  },
  {
   "cell_type": "markdown",
   "id": "b5a8e9ec-a0f6-4755-81c7-c64a19bb0166",
   "metadata": {},
   "source": [
    "### Point-Level Analysis"
   ]
  },
  {
   "cell_type": "markdown",
   "id": "c732e262-f042-407e-a269-5efbd5e25e47",
   "metadata": {},
   "source": [
    "* UA SWE underestimates SNOTEL SWE.\n",
    "    - Resolution could partially explain why UA SWE underestimates SNOTEL SWE at SNOTEL sites.\n",
    "* Precipitation is the dominant factor that impacts the variability in UA SWE early in the snow season; as ablation begins to increase in October, temperature becomes the dominant factor influencing UA SWE variability. This influence persists throughout the rest of the snow season. This is because early in the season, snow accumulation plays a dominant role and precipitation data only plays a role in affecting snow accumulation; however, ablation begins to accumulate around mid-October and since ablation is solely determined by temperature data in UA SWE, temperature begins to play a increasingly larger role in influencing UA SWE variability beginning around mid-October.\n",
    "* Because Jennings rain-snow partitioning threshold is greater than $2^\\circ$C in the UCRB, using a dynamic rain-snow partitioning scheme does not significantly affect or improve UA SWE estimates.\n",
    "* Using gridMET or Livneh precipitation in lieu of PRISM precipitation in UA SWE increases SWE error, on average.\n",
    "* Using gridMET or Livneh temperature in lieu of PRISM temperature in UA SWE reduces the SWE error, on average.\n",
    "    - In particular, because of Livneh temperature lapse rate correction (i.e. correcting for elevation), UA SWE produced with Livneh T in place of PRISM T reduces the SWE error in relation to SNOTEL. This suggests a benefit in Livneh's decision to correct temperature with a lapse rate.\n",
    "* Our method allows us to evaluate the individual efffects of the because the interaction between T and P masks the individual effects in different ways. In gridMET, for example, the interaction between T and P cancel out the positive and negative errors produced by the individual T and P components. In Livneh, however, the interaction effect is additive/multiplicative."
   ]
  },
  {
   "cell_type": "code",
   "execution_count": null,
   "id": "169ae929-1fe7-4525-a766-5fbffa8cc10c",
   "metadata": {},
   "outputs": [],
   "source": []
  },
  {
   "cell_type": "markdown",
   "id": "aa25e4ad-7202-4b38-bbbf-989080b1863d",
   "metadata": {},
   "source": [
    "### Grid-Level Analysis"
   ]
  },
  {
   "cell_type": "markdown",
   "id": "61a922f6-9202-4f33-b1b2-613d7d1ee5b2",
   "metadata": {},
   "source": []
  },
  {
   "cell_type": "code",
   "execution_count": null,
   "id": "d56e6a7f-d071-4b8c-8609-176110e01155",
   "metadata": {},
   "outputs": [],
   "source": []
  },
  {
   "cell_type": "markdown",
   "id": "4f01ab52-f4f6-4413-a8d3-a7659e3222ba",
   "metadata": {},
   "source": [
    "## Conclusion"
   ]
  },
  {
   "cell_type": "markdown",
   "id": "a12eebdc-c725-4977-a0b2-d90abcdf39e8",
   "metadata": {},
   "source": [
    "* There are negative biases in the UA SWE product's representation of seasonal snow accumulation. \"Biases in snow accumulation will impact other aspects of the hydrologic cycle, such as runoff and soil moisture. These biases will reach beyond mountain areas, affecting assessment of water resources and hydrologic hazards for regions downstream.\" (Wrzesien et al. (2019))\n",
    "* Uncertainty in the UA SWE algorithm comes primarily from temperature data used. This temperature influence is exhibited beginning when ablation starts to occur in the snow season. Precipitation also contributes to the uncertainty, but its major influence lies in the beginning of the snow season before ablation begins.\n",
    "* Using Gridmet or Livneh temperature in place of PRISM temperature can help reduce UA SWE error in the seasonal snow accumulation period.\n",
    "* Lapse rate correction in temperature data is useful, as exhibited via Livneh evaluated in SWE.\n",
    "* Understanding the effect of various products on the UA SWE estimates not only helps guide SWE model development, highlighting areas to focus on when working to improve gridded product (or physical model), but also helps assess the performance of gridded T and P products, which are often used for modeling other phenomena, including SWE. "
   ]
  },
  {
   "cell_type": "markdown",
   "id": "bf327e72-b4dc-40ca-9bac-502c5c08c0d0",
   "metadata": {},
   "source": [
    "## Future Directions"
   ]
  },
  {
   "cell_type": "markdown",
   "id": "f6538850-962f-421b-aa14-147d3410d069",
   "metadata": {},
   "source": [
    "As demonstrated by our analysis, there is room to improve SWE estimation (improve underestimation of UA SWE, minimize the errors produced by the various components). Two promising directions for improving gridded SWE estimates could be 1) by improving the interpolation of SWE; and 2) by accounting for the non-representativeness of observational data used.\n",
    "\n",
    "Interpolation plays a key role in many gridding methodologies, including in UA SWE. By default, the UA SWE algorithm interpolates the SNOTEL ratios independently for each day using ordinary kriging with spherical variogram with fixed parameters of 20km range, 0.2 sill, and a zero nugget. While the range and sill parameters were determined by the authors of the UA SWE product to be optimized for SNOTEL ratios across CONUS, the decision for a nugget of zero can be questioned. \n",
    "\n",
    "SNOTEL non-representativeness: 1) spatial heterogeneity of SNOTEL sites (located at scattered and some clustered areas); 2) location of SNOTEL does not represent nearby environmental conditions (e.g. SWE of area in close proximity to sites can fall into the same grid cell but vary drastically, same with temperature and precipitation?); 3) SNOTEL sites don't cover the range of altitudes (e.g. SNOTEL sites located mostly at mid-altitudes (confirm)?);\n",
    "* Can we find a relationship between SNOTEL site locations and covariates? i.e. to make a statistical statement about connection between some static or dynamic physical variable and SNOTEL site location\n",
    "* Is there any way to improve SNOTEL representativeness by incorporating some correction or information based on other covariates?"
   ]
  },
  {
   "cell_type": "markdown",
   "id": "2d0955f6-ba62-4597-8858-7e2f1c6c8e31",
   "metadata": {},
   "source": [
    "Future projections"
   ]
  },
  {
   "cell_type": "markdown",
   "id": "d2243790-a6e0-4009-9e12-7ab1b81a767e",
   "metadata": {},
   "source": [
    "## References"
   ]
  },
  {
   "cell_type": "code",
   "execution_count": null,
   "id": "69367972-87ed-4db6-b342-018d0bdd4523",
   "metadata": {},
   "outputs": [],
   "source": []
  }
 ],
 "metadata": {
  "kernelspec": {
   "display_name": "MyEnv",
   "language": "python",
   "name": "myenv"
  },
  "language_info": {
   "codemirror_mode": {
    "name": "ipython",
    "version": 3
   },
   "file_extension": ".py",
   "mimetype": "text/x-python",
   "name": "python",
   "nbconvert_exporter": "python",
   "pygments_lexer": "ipython3",
   "version": "3.9.11"
  }
 },
 "nbformat": 4,
 "nbformat_minor": 5
}
