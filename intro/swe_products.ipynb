{
 "cells": [
  {
   "cell_type": "markdown",
   "id": "c25f40d5-1faa-40ab-b60f-fb26df3f3507",
   "metadata": {},
   "source": [
    "# SWE Gridded Products"
   ]
  },
  {
   "cell_type": "markdown",
   "id": "d27e3ef3-b531-46fb-8e39-268baf9fd63b",
   "metadata": {},
   "source": [
    "In this notebook, we illustrate each of the four commonly used SWE gridded products to demonstrate differences in gridded estimates differ across products."
   ]
  },
  {
   "cell_type": "code",
   "execution_count": null,
   "id": "377f9844-1607-4aaf-90ee-4d9c5672950c",
   "metadata": {},
   "outputs": [],
   "source": [
    "import math\n",
    "import datetime\n",
    "import xarray as xr\n",
    "import numpy as np\n",
    "import pandas as pd\n",
    "import geopandas as gpd\n",
    "import matplotlib.pyplot as plt"
   ]
  },
  {
   "cell_type": "code",
   "execution_count": null,
   "id": "0cb027af-81eb-4231-a0cb-f06763776e0b",
   "metadata": {},
   "outputs": [],
   "source": [
    "# Set date of interest\n",
    "date = datetime.datetime(2003, 4, 1)"
   ]
  },
  {
   "cell_type": "code",
   "execution_count": null,
   "id": "494a6d5a-4475-464a-b9e9-011174b219b6",
   "metadata": {},
   "outputs": [],
   "source": [
    "era5_dir = '/global/cfs/cdirs/dasrepo/yum/swe/gridded_products/data/ERA5/'\n",
    "era5_file = 'ERA5_snw_1979-2014.nc'"
   ]
  },
  {
   "cell_type": "code",
   "execution_count": null,
   "id": "232ba2b8-dbfb-42ce-a5ff-5d818d89b0af",
   "metadata": {},
   "outputs": [],
   "source": [
    "livneh_dir = '/global/cfs/cdirs/dasrepo/yum/swe/gridded_products/data/L15/'\n",
    "livneh_file = 'L15_Fluxes_1985-2005.nc'"
   ]
  },
  {
   "cell_type": "code",
   "execution_count": null,
   "id": "b9fbc842-7c37-4f4c-9172-d25d5cb6d550",
   "metadata": {},
   "outputs": [],
   "source": [
    "# snsr_dir = '/global/cfs/cdirs/dasrepo/yum/swe/gridded_products/data/SNSR/'    # original UCLA SR that was only for the Sierra Nevada\n",
    "# snsr_file = 'SN_SWE_WY2003.h5'\n",
    "ucla_dir = '/global/cfs/cdirs/dasrepo/yum/swe/gridded_products/data/Margulis/Margulis/'\n",
    "ucla_file = 'WUS_UCLA_SR_v01_ALL_0_agg_16_WY2002_SD_SWE_SCA_POST.nc'"
   ]
  },
  {
   "cell_type": "code",
   "execution_count": null,
   "id": "706cf906-00e7-492d-85b7-45620adda884",
   "metadata": {},
   "outputs": [],
   "source": [
    "ua_dir = '/global/cfs/cdirs/dasrepo/yum/swe/gridded_products/data/UofASWE/'\n",
    "ua_file = '4km_SWE_Depth_WY2003_v01.nc'"
   ]
  },
  {
   "cell_type": "code",
   "execution_count": null,
   "id": "21e6da7d-6385-4602-8ee1-24ae2f4f00b4",
   "metadata": {},
   "outputs": [],
   "source": [
    "save_dir = '/global/cfs/cdirs/dasrepo/yum/swe/uaswe-error-decomposition/figures/'"
   ]
  },
  {
   "cell_type": "markdown",
   "id": "435bd18a-035b-479c-9fbe-3c2a78a01bd9",
   "metadata": {
    "tags": []
   },
   "source": [
    "## Load and Plot Products in Default Spatial Extent"
   ]
  },
  {
   "cell_type": "markdown",
   "id": "c605211c-d71b-4306-a66c-e899946073f0",
   "metadata": {},
   "source": [
    "### ERA5"
   ]
  },
  {
   "cell_type": "code",
   "execution_count": null,
   "id": "12e11428-a295-4c32-a217-445aa7cc4e27",
   "metadata": {},
   "outputs": [],
   "source": [
    "# Load ERA5 data\n",
    "era5_ds = xr.open_dataset(era5_dir+era5_file)"
   ]
  },
  {
   "cell_type": "code",
   "execution_count": null,
   "id": "f43ab2db-12c6-47b1-876e-920fe2f0924a",
   "metadata": {},
   "outputs": [],
   "source": [
    "# extract SWE variable from xr dataset\n",
    "era5_da = era5_ds.snw"
   ]
  },
  {
   "cell_type": "code",
   "execution_count": null,
   "id": "d3476fdb-edb2-40bd-bdef-85b6815e5c4d",
   "metadata": {},
   "outputs": [],
   "source": [
    "# subset era5_da to desired date\n",
    "era5_date = era5_da.sel(time=slice(date, date + datetime.timedelta(days=1)))"
   ]
  },
  {
   "cell_type": "code",
   "execution_count": null,
   "id": "24393bf8-7a4d-4b06-89fb-0c05cd04814e",
   "metadata": {},
   "outputs": [],
   "source": [
    "# convert longitude from 0-360 to -180-180 coordinate system \n",
    "# https://stackoverflow.com/questions/53121089/regridding-coordinates-with-python-xarray\n",
    "era5_date = era5_date.assign_coords(longitude=(((era5_date.longitude + 180) % 360) - 180)).sortby('longitude')"
   ]
  },
  {
   "cell_type": "code",
   "execution_count": null,
   "id": "cae6f198-a03e-4bbc-bb0f-9192f2fe52a3",
   "metadata": {},
   "outputs": [],
   "source": [
    "# convert swe from meters to mm\n",
    "era5_date = era5_date * 1000"
   ]
  },
  {
   "cell_type": "code",
   "execution_count": null,
   "id": "2d244ec7-70f7-449f-9bdc-9b628e430d64",
   "metadata": {},
   "outputs": [],
   "source": [
    "# replace 0mm SWE with NAN\n",
    "era5_date.values[era5_date.values == 0] = np.nan"
   ]
  },
  {
   "cell_type": "code",
   "execution_count": null,
   "id": "fdcb4558-3481-4372-b16e-be91ee74d250",
   "metadata": {},
   "outputs": [],
   "source": [
    "# plot\n",
    "# era5_date.plot(cmap='cool', vmax=2000)\n",
    "# plt.savefig(save_dir+'era5.png', dpi=300)"
   ]
  },
  {
   "cell_type": "markdown",
   "id": "f4d05e59-fa66-4d59-8772-2e258126e9ee",
   "metadata": {},
   "source": [
    "### Livneh"
   ]
  },
  {
   "cell_type": "code",
   "execution_count": null,
   "id": "5739663f-ccd6-46cb-aa66-427f31c914c5",
   "metadata": {
    "tags": []
   },
   "outputs": [],
   "source": [
    "# load livneh data\n",
    "livneh_ds = xr.open_dataset(livneh_dir+livneh_file)"
   ]
  },
  {
   "cell_type": "code",
   "execution_count": null,
   "id": "7e7763ac-115c-4ea1-a5b1-b5d875ff9b28",
   "metadata": {},
   "outputs": [],
   "source": [
    "# extract SWE variable\n",
    "livneh_da = livneh_ds.SWE"
   ]
  },
  {
   "cell_type": "code",
   "execution_count": null,
   "id": "0fb1b7e7-534d-49d4-b41e-496108a19506",
   "metadata": {},
   "outputs": [],
   "source": [
    "# subset livneh_da to desired date\n",
    "livneh_date = livneh_da.sel(time=slice(date, date + datetime.timedelta(days=1)))"
   ]
  },
  {
   "cell_type": "code",
   "execution_count": null,
   "id": "01af8fc8-1623-48d5-bdf9-dc093e4edbe3",
   "metadata": {},
   "outputs": [],
   "source": [
    "# plot\n",
    "livneh_date[0,:,:].plot(cmap='cool', vmax=2000)\n",
    "# plt.savefig(save_dir+'livneh.png', dpi=300)"
   ]
  },
  {
   "cell_type": "markdown",
   "id": "9c48e7cb-6a02-42a9-936e-85fa043ddf27",
   "metadata": {},
   "source": [
    "### UCLA SR"
   ]
  },
  {
   "cell_type": "code",
   "execution_count": null,
   "id": "23fcc4f5-c95b-4bcf-8f4c-3b8cba30a6dd",
   "metadata": {},
   "outputs": [],
   "source": [
    "# load UCLA_SR data\n",
    "ucla_ds = xr.open_dataset(ucla_dir+ucla_file)"
   ]
  },
  {
   "cell_type": "code",
   "execution_count": null,
   "id": "8815e37b-6e6e-446d-8183-4edfe9d36e56",
   "metadata": {},
   "outputs": [],
   "source": [
    "# extract SWE variable\n",
    "ucla_da = ucla_ds.SWE_Post"
   ]
  },
  {
   "cell_type": "code",
   "execution_count": null,
   "id": "e9bdd2c9-474b-4a26-83ee-4b73641a2ec7",
   "metadata": {},
   "outputs": [],
   "source": [
    "# subset UCLA_SR to desired date\n",
    "ucla_date = ucla_da.sel(time=slice(date, date + datetime.timedelta(days=1)))"
   ]
  },
  {
   "cell_type": "code",
   "execution_count": null,
   "id": "796c6f68-4e63-48c9-88c9-5714aa8cf9d9",
   "metadata": {},
   "outputs": [],
   "source": [
    "# Convert from meters to milimeters\n",
    "ucla_date = ucla_date * 1000"
   ]
  },
  {
   "cell_type": "code",
   "execution_count": null,
   "id": "ab8a6446-468e-4937-9e83-a714974a14a4",
   "metadata": {},
   "outputs": [],
   "source": [
    "ucla_wus = ucla_date[0,2,:,:] * 1000\n",
    "ucla_wus.plot(cmap='cool')"
   ]
  },
  {
   "cell_type": "markdown",
   "id": "96c8b545-a2bb-4707-8f3d-7b6426e84128",
   "metadata": {},
   "source": [
    "### UA SWE"
   ]
  },
  {
   "cell_type": "code",
   "execution_count": null,
   "id": "e90333f9-43d9-468c-b944-c4a5a3c7d859",
   "metadata": {},
   "outputs": [],
   "source": [
    "# load UA data\n",
    "ua_ds = xr.open_dataset(ua_dir+ua_file)"
   ]
  },
  {
   "cell_type": "code",
   "execution_count": null,
   "id": "a01db097-ff4c-40cb-bc85-52b6e0a4ba3c",
   "metadata": {},
   "outputs": [],
   "source": [
    "# extract SWE variable \n",
    "ua_da = ua_ds.SWE"
   ]
  },
  {
   "cell_type": "code",
   "execution_count": null,
   "id": "dfd43d98-a932-4b9a-9535-a1bde97054f0",
   "metadata": {},
   "outputs": [],
   "source": [
    "# subset ua_da to desired date\n",
    "ua_date = ua_da.sel(time=slice(date, date + datetime.timedelta(days=1)))"
   ]
  },
  {
   "cell_type": "code",
   "execution_count": null,
   "id": "d6377baf-6b24-41e2-89df-ba2a214c4f52",
   "metadata": {},
   "outputs": [],
   "source": [
    "# plot\n",
    "ua_date[0,:,:].plot(cmap='cool', vmax=2000)\n",
    "# plt.savefig(save_dir+'ua.png', dpi=300)"
   ]
  },
  {
   "cell_type": "markdown",
   "id": "4a41d096-d3ac-4f85-a8db-e7bcca9aa691",
   "metadata": {},
   "source": [
    "## Plot Products for the UCRB Study Area"
   ]
  },
  {
   "cell_type": "markdown",
   "id": "cb6eca34-a628-40e2-8596-4e425e05b794",
   "metadata": {},
   "source": [
    "Load spatial extent of UCRB"
   ]
  },
  {
   "cell_type": "code",
   "execution_count": null,
   "id": "db9c918e-55ab-48ae-9879-adc152dc256a",
   "metadata": {},
   "outputs": [],
   "source": [
    "# Get shapefile for Upper Colorado Riber Basin (UCRB)\n",
    "uc_shp = \"../data/Upper_Colorado_River_Basin_Boundary/Upper_Colorado_River_Basin_Boundary.shp\"\n",
    "\n",
    "# Read UCRB shapefile\n",
    "gm_poly_gdf = gpd.read_file(uc_shp, encoding=\"utf-8\")\n",
    "\n",
    "# Get bounds of UCRB\n",
    "gm_poly_geom = gm_poly_gdf.iloc[0].geometry"
   ]
  },
  {
   "cell_type": "markdown",
   "id": "9a63951d-a26d-49d3-88e0-b17fa3b0d455",
   "metadata": {},
   "source": [
    "Get lat/lon boundaries of UCRB"
   ]
  },
  {
   "cell_type": "code",
   "execution_count": null,
   "id": "d53dca77-51dc-4ca2-a349-3f1d203752fe",
   "metadata": {},
   "outputs": [],
   "source": [
    "yy, xx = gm_poly_geom.exterior.coords.xy\n",
    "yy, xx = np.array(yy), np.array(xx)\n",
    "# Get UCRB bounds\n",
    "xmin, xmax = float(np.min(xx)), float(np.max(xx))\n",
    "ymin, ymax = float(np.min(yy)), float(np.max(yy))"
   ]
  },
  {
   "cell_type": "markdown",
   "id": "243e5874-3f1b-4d18-8d2b-b5d2f3a9204b",
   "metadata": {},
   "source": [
    "### Subset Products to UCRB"
   ]
  },
  {
   "cell_type": "code",
   "execution_count": null,
   "id": "9f427b22-8c0b-4424-add9-ea249ba1dde1",
   "metadata": {},
   "outputs": [],
   "source": [
    "# subset ERA5 to UCRB long/lat\n",
    "era5_sub = era5_date.sel(latitude=slice(xmax,xmin), longitude=slice(ymin,ymax))\n",
    "# subset ERA5 to UCRB bounds (i.e. when UCRB is NAN, make ERA5 NAN)\n",
    "era5_ucrb = era5_sub[0,:,:]"
   ]
  },
  {
   "cell_type": "code",
   "execution_count": null,
   "id": "99ddeeab-7819-4f4b-8b9e-15a88661007c",
   "metadata": {},
   "outputs": [],
   "source": [
    "# subset Livneh to UCRB long/lat\n",
    "livneh_sub = livneh_date.sel(lat=slice(xmin,xmax), lon=slice(ymin,ymax))\n",
    "# subset Livneh to UCRB bounds (i.e. when UCRB is NAN, make Livneh NAN)\n",
    "livneh_ucrb = livneh_sub[0,:,:]"
   ]
  },
  {
   "cell_type": "code",
   "execution_count": null,
   "id": "430b1118-c477-4325-8e1f-10aaf51185cf",
   "metadata": {},
   "outputs": [],
   "source": [
    "# subset UCLA_SR to UCRB long/lat\n",
    "ucla_sub = ucla_date.sel(Latitude=slice(xmax,xmin), Longitude=slice(ymin,ymax))\n",
    "# subset UCLA_SR to UCRB bounds (i.e. when UCRB is NAN, make UA NAN)\n",
    "ucla_ucrb = ucla_sub[0,2,:,:]   # Posterior median\n",
    "# ucla_ucrb = ucla_sub[0,:,:]    # Posterior mean"
   ]
  },
  {
   "cell_type": "code",
   "execution_count": null,
   "id": "b08a3ff5-2b9b-4fbf-b4b9-25ed99463ec5",
   "metadata": {},
   "outputs": [],
   "source": [
    "# subset UA to UCRB long/lat\n",
    "ua_sub = ua_date.sel(lat=slice(xmin,xmax), lon=slice(ymin,ymax))\n",
    "# subset UA to UCRB bounds (i.e. when UCRB is NAN, make UA NAN)\n",
    "ua_ucrb = ua_sub[0,:,:]"
   ]
  },
  {
   "cell_type": "markdown",
   "id": "8a927ec6-3b4a-4104-b353-f7c1e1249a96",
   "metadata": {},
   "source": [
    "### Apply Log Scaling to SWE Gridded Values"
   ]
  },
  {
   "cell_type": "code",
   "execution_count": null,
   "id": "69e56708-0a28-4f42-864b-30ab2cdfdccf",
   "metadata": {},
   "outputs": [],
   "source": [
    "log_era5_ucrb = np.log10(era5_ucrb)\n",
    "log_era5_ucrb = log_era5_ucrb.where(log_era5_ucrb != -math.inf)"
   ]
  },
  {
   "cell_type": "code",
   "execution_count": null,
   "id": "3b8bcf8c-9439-498b-bf2c-47bd0809b3a9",
   "metadata": {},
   "outputs": [],
   "source": [
    "log_livneh_ucrb = np.log10(livneh_ucrb)\n",
    "log_livneh_ucrb = log_livneh_ucrb.where(log_livneh_ucrb != -math.inf)"
   ]
  },
  {
   "cell_type": "code",
   "execution_count": null,
   "id": "4201b393-9147-4052-9b5c-52a7a47d1fdf",
   "metadata": {},
   "outputs": [],
   "source": [
    "log_ucla_ucrb = np.log10(ucla_ucrb)\n",
    "log_ucla_ucrb = log_ucla_ucrb.where(log_ucla_ucrb != -math.inf)"
   ]
  },
  {
   "cell_type": "code",
   "execution_count": null,
   "id": "2d3b30ce-552a-44bb-920d-02a496cd1c9a",
   "metadata": {},
   "outputs": [],
   "source": [
    "log_ua_ucrb = np.log10(ua_ucrb)\n",
    "log_ua_ucrb = log_ua_ucrb.where(log_ua_ucrb != -math.inf)"
   ]
  },
  {
   "cell_type": "markdown",
   "id": "09b8b1f9-c51b-4f60-8bf7-a78dc9cc7f57",
   "metadata": {},
   "source": [
    "### Plot Products for UCRB"
   ]
  },
  {
   "cell_type": "markdown",
   "id": "61275e4a-b567-412c-8fb8-a2496947cff1",
   "metadata": {},
   "source": [
    "#### Indivially"
   ]
  },
  {
   "cell_type": "code",
   "execution_count": null,
   "id": "792481a2-d987-4f12-bb2e-8c60382960ae",
   "metadata": {},
   "outputs": [],
   "source": [
    "# plot era5 clipped to ucrb region\n",
    "f, ax = plt.subplots(figsize=(10,6))\n",
    "log_era5_ucrb.plot(ax=ax, cmap='coolwarm', vmin=-4, vmax=4, cbar_kwargs={'label':'log SWE (mm)'})\n",
    "# era5_ucrb.plot(ax=ax, cmap='Blues', vmax=1800) #vmax=3200)\n",
    "gm_poly_gdf.plot(ax=ax, facecolor=\"none\", edgecolor='black', lw=1.5)\n",
    "plt.title('ERA5 (Clipped to UCRB)')\n",
    "plt.xlim(-112.5,-105.5)\n",
    "plt.ylim(35.5,43.5)\n",
    "# plt.savefig(save_dir+'era5_ucrb.png', dpi=300)\n",
    "# plt.savefig(save_dir+'log_era5_ucrb.png', dpi=300)"
   ]
  },
  {
   "cell_type": "code",
   "execution_count": null,
   "id": "8b3146fa-b6c2-4e94-8b81-3791ff22084f",
   "metadata": {},
   "outputs": [],
   "source": [
    "# plot livneh clipped to ucrb region\n",
    "f, ax = plt.subplots(figsize=(10,6))\n",
    "log_livneh_ucrb.plot(ax=ax, cmap='coolwarm', vmin=-4, vmax=4, cbar_kwargs={'label':'log SWE (mm)'})\n",
    "# livneh_ucrb.plot(ax=ax, cmap='Blues', vmax=1800)#vmax=3200)\n",
    "gm_poly_gdf.plot(ax=ax, facecolor=\"none\", edgecolor='black', lw=1.5)\n",
    "plt.title('Livneh (Clipped to UCRB)')\n",
    "plt.xlim(-112.5,-105.5)\n",
    "plt.ylim(35.5,43.5)\n",
    "# plt.savefig(save_dir+'livneh_ucrb.png', dpi=300) \n",
    "# plt.savefig(save_dir+'log_livneh_ucrb.png', dpi=300)"
   ]
  },
  {
   "cell_type": "code",
   "execution_count": null,
   "id": "611bb99c-fc99-43d3-882d-69a35f5aa1a3",
   "metadata": {},
   "outputs": [],
   "source": [
    "# plot wus_ucla_sr clipped to ucrb region\n",
    "f, ax = plt.subplots(figsize=(10,6))\n",
    "log_ucla_ucrb.plot(ax=ax, cmap='coolwarm', vmin=-4, vmax=4, cbar_kwargs={'label':'log SWE (mm)'})#, vmax=1800)#vmax=3200)\n",
    "# ucla_ucrb.plot(ax=ax, cmap='Blues', vmax=1800)#vmax=3200)\n",
    "gm_poly_gdf.plot(ax=ax, facecolor=\"none\", edgecolor='black', lw=1.5)\n",
    "plt.title('UCLA SR (Clipped to UCRB)')\n",
    "plt.xlim(-112.5,-105.5)\n",
    "plt.ylim(35.5,43.5)\n",
    "# plt.savefig(save_dir+'snsr_ucrb.png', dpi=300)\n",
    "# plt.savefig(save_dir+'log_snsr_ucrb.png', dpi=300)"
   ]
  },
  {
   "cell_type": "code",
   "execution_count": null,
   "id": "2bece92a-6969-4f8d-887d-2d5a3560bcc6",
   "metadata": {},
   "outputs": [],
   "source": [
    "# plot ua clipped to ucrb region\n",
    "f, ax = plt.subplots(figsize=(10,6))\n",
    "log_ua_ucrb.plot(ax=ax, cmap='coolwarm', vmin=-4, vmax=4, cbar_kwargs={'label':'log SWE (mm)'})\n",
    "# ua_ucrb.plot(ax=ax, cmap='Blues', vmax=1800)#vmax=3200)\n",
    "gm_poly_gdf.plot(ax=ax, facecolor=\"none\", edgecolor='black', lw=1.5)\n",
    "plt.title('UA (Clipped to UCRB)')\n",
    "plt.xlim(-112.5,-105.5)\n",
    "plt.ylim(35.5,43.5)\n",
    "# plt.savefig(save_dir+'ua_ucrb.png', dpi=300)\n",
    "# plt.savefig(save_dir+'log_ua_ucrb.png', dpi=300)"
   ]
  },
  {
   "cell_type": "markdown",
   "id": "19e17cc1-710c-43c2-86b9-1361dd45131a",
   "metadata": {},
   "source": [
    "#### All Products on Single Figure"
   ]
  },
  {
   "cell_type": "code",
   "execution_count": null,
   "id": "3f56fb22-912c-496f-92d9-12b12a26de6b",
   "metadata": {},
   "outputs": [],
   "source": [
    "f, axes = plt.subplots(nrows=2, ncols=2, figsize=(10,12))\n",
    "log_era5_ucrb.plot(ax=axes[0,0], cmap='coolwarm', vmin=-4, vmax=4, cbar_kwargs={'label':'log SWE (mm)'})\n",
    "log_livneh_ucrb.plot(ax=axes[0,1], cmap='coolwarm', vmin=-4, vmax=4, cbar_kwargs={'label':'log SWE (mm)'})\n",
    "log_ua_ucrb.plot(ax=axes[1,0], cmap='coolwarm', vmin=-4, vmax=4, cbar_kwargs={'label':'log SWE (mm)'})\n",
    "log_ucla_ucrb.plot(ax=axes[1,1], cmap='coolwarm', vmin=-4, vmax=4, cbar_kwargs={'label':'log SWE (mm)'})\n",
    "# era5_ucrb.plot(ax=axes[0,0], cmap='Blues', vmax=1800) #vmax=3200)\n",
    "# livneh_ucrb.plot(ax=axes[0,1], cmap='Blues', vmax=1800) #vmax=3200)\n",
    "# ua_ucrb.plot(ax=axes[1,0], cmap='Blues', vmax=1800) #vmax=3200)\n",
    "# ucla_ucrb.plot(ax=axes[1,1], cmap='Blues', vmax=1800) #vmax=3200)\n",
    "gm_poly_gdf.plot(ax=axes[0,0], facecolor=\"none\", edgecolor='black', lw=1.5)\n",
    "gm_poly_gdf.plot(ax=axes[0,1], facecolor=\"none\", edgecolor='black', lw=1.5)\n",
    "gm_poly_gdf.plot(ax=axes[1,0], facecolor=\"none\", edgecolor='black', lw=1.5)\n",
    "gm_poly_gdf.plot(ax=axes[1,1], facecolor=\"none\", edgecolor='black', lw=1.5)\n",
    "axes[0,0].set_title('ERA5 (Clipped to UCRB)')\n",
    "axes[0,1].set_title('Livneh (Clipped to UCRB)')\n",
    "axes[1,0].set_title('UA SWE (Clipped to UCRB)')\n",
    "axes[1,1].set_title('UCLA SR (Clipped to UCRB)')\n",
    "plt.xlim(-112.5,-105.5)\n",
    "plt.ylim(35.5,43.5)\n",
    "plt.tight_layout()\n",
    "# plt.savefig(save_dir+'swe_products.png', dpi=300)\n",
    "# plt.savefig(save_dir+'swe_products.png', dpi=300)"
   ]
  },
  {
   "cell_type": "code",
   "execution_count": null,
   "id": "bdb580cf-2bc1-4ad7-a26e-e376f62a8f39",
   "metadata": {},
   "outputs": [],
   "source": []
  }
 ],
 "metadata": {
  "kernelspec": {
   "display_name": "MyEnv",
   "language": "python",
   "name": "myenv"
  },
  "language_info": {
   "codemirror_mode": {
    "name": "ipython",
    "version": 3
   },
   "file_extension": ".py",
   "mimetype": "text/x-python",
   "name": "python",
   "nbconvert_exporter": "python",
   "pygments_lexer": "ipython3",
   "version": "3.9.11"
  }
 },
 "nbformat": 4,
 "nbformat_minor": 5
}
