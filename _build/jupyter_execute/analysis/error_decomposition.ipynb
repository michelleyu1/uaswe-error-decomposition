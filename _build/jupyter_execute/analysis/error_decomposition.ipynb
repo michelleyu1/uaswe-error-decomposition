{
 "cells": [
  {
   "cell_type": "markdown",
   "id": "bb1c5aac-2ccf-4664-8859-bd0b66daa60f",
   "metadata": {},
   "source": [
    "# Error Decomposition"
   ]
  },
  {
   "cell_type": "code",
   "execution_count": null,
   "id": "c111228a-3995-423f-b623-d73c1e640ea1",
   "metadata": {},
   "outputs": [],
   "source": []
  }
 ],
 "metadata": {
  "kernelspec": {
   "display_name": "NERSC Python",
   "language": "python",
   "name": "python3"
  },
  "language_info": {
   "codemirror_mode": {
    "name": "ipython",
    "version": 3
   },
   "file_extension": ".py",
   "mimetype": "text/x-python",
   "name": "python",
   "nbconvert_exporter": "python",
   "pygments_lexer": "ipython3",
   "version": "3.9.7"
  }
 },
 "nbformat": 4,
 "nbformat_minor": 5
}