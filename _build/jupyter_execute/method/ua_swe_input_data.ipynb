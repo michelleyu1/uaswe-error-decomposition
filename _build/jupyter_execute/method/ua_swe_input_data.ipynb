{
 "cells": [
  {
   "cell_type": "markdown",
   "id": "0f9fe1a1-0d92-47ba-9aff-154e7dd8f9a8",
   "metadata": {},
   "source": [
    "# UA SWE Input Data"
   ]
  },
  {
   "cell_type": "markdown",
   "id": "119e52ec-c0cd-4fd5-89a5-0291a5f6a45b",
   "metadata": {},
   "source": [
    "This notebook plots the April 1 average (over the 1985-2016 WY study period) of each dataset used in the gridding procedure of UA SWE. Specifically, the datasets are: SNOTEL SWE, SNOTEL Precipitation, SNOTEL Temperature, PRISM Precipitation, and PRISM Temperature."
   ]
  },
  {
   "cell_type": "code",
   "execution_count": 1,
   "id": "35161e89-c342-4f58-91aa-6861fb65b95f",
   "metadata": {},
   "outputs": [
    {
     "ename": "ModuleNotFoundError",
     "evalue": "No module named 'contextily'",
     "output_type": "error",
     "traceback": [
      "\u001b[0;31m---------------------------------------------------------------------------\u001b[0m",
      "\u001b[0;31mModuleNotFoundError\u001b[0m                       Traceback (most recent call last)",
      "Input \u001b[0;32mIn [1]\u001b[0m, in \u001b[0;36m<cell line: 7>\u001b[0;34m()\u001b[0m\n\u001b[1;32m      5\u001b[0m \u001b[38;5;28;01mfrom\u001b[39;00m \u001b[38;5;21;01mshapely\u001b[39;00m \u001b[38;5;28;01mimport\u001b[39;00m wkt\n\u001b[1;32m      6\u001b[0m \u001b[38;5;28;01mimport\u001b[39;00m \u001b[38;5;21;01mgeopandas\u001b[39;00m \u001b[38;5;28;01mas\u001b[39;00m \u001b[38;5;21;01mgpd\u001b[39;00m\n\u001b[0;32m----> 7\u001b[0m \u001b[38;5;28;01mimport\u001b[39;00m \u001b[38;5;21;01mcontextily\u001b[39;00m \u001b[38;5;28;01mas\u001b[39;00m \u001b[38;5;21;01mctx\u001b[39;00m\n\u001b[1;32m      8\u001b[0m \u001b[38;5;28;01mimport\u001b[39;00m \u001b[38;5;21;01mmatplotlib\u001b[39;00m\u001b[38;5;21;01m.\u001b[39;00m\u001b[38;5;21;01mpyplot\u001b[39;00m \u001b[38;5;28;01mas\u001b[39;00m \u001b[38;5;21;01mplt\u001b[39;00m\n\u001b[1;32m      9\u001b[0m \u001b[38;5;28;01mimport\u001b[39;00m \u001b[38;5;21;01mmatplotlib\u001b[39;00m\u001b[38;5;21;01m.\u001b[39;00m\u001b[38;5;21;01mdates\u001b[39;00m \u001b[38;5;28;01mas\u001b[39;00m \u001b[38;5;21;01mmdates\u001b[39;00m\n",
      "\u001b[0;31mModuleNotFoundError\u001b[0m: No module named 'contextily'"
     ]
    }
   ],
   "source": [
    "import os\n",
    "import numpy as np\n",
    "import pandas as pd\n",
    "import xarray as xr\n",
    "from shapely import wkt\n",
    "import geopandas as gpd\n",
    "import contextily as ctx\n",
    "import matplotlib.pyplot as plt\n",
    "import matplotlib.dates as mdates\n",
    "from datetime import datetime, timedelta"
   ]
  },
  {
   "cell_type": "code",
   "execution_count": null,
   "id": "7d205336-beb2-4f7d-b270-f01f5a645545",
   "metadata": {},
   "outputs": [],
   "source": [
    "# Date range for analysis\n",
    "start_date = datetime(1985,10,1)\n",
    "end_date = datetime(2016,9,30)"
   ]
  },
  {
   "cell_type": "code",
   "execution_count": null,
   "id": "2401473d-6617-4f73-af43-4dbd08f0e898",
   "metadata": {},
   "outputs": [],
   "source": [
    "n_yrs = end_date.year - start_date.year"
   ]
  },
  {
   "cell_type": "code",
   "execution_count": null,
   "id": "64b0080f-b944-4694-8a24-27b27d8286fc",
   "metadata": {},
   "outputs": [],
   "source": [
    "sites_df_dir = '/global/cfs/cdirs/dasrepo/yum/swe/UofA_bias_decomposition/'\n",
    "\n",
    "sntl_data_dir = '/global/cfs/cdirs/dasrepo/yum/swe/UofA_bias_decomposition/experiments/1985_to_2016/prism/'\n",
    "prism_data_dir = '/global/cfs/cdirs/dasrepo/yum/swe/UofA_bias_decomposition/data/prism_cleaned/'\n",
    "\n",
    "save_dir = '/global/cfs/cdirs/dasrepo/yum/swe/uaswe-error-decomposition/figures/'"
   ]
  },
  {
   "cell_type": "code",
   "execution_count": null,
   "id": "cac8a662-87dc-4038-9472-8e18b9b08ddf",
   "metadata": {},
   "outputs": [],
   "source": []
  },
  {
   "cell_type": "markdown",
   "id": "9272fc06-c77d-4609-9c08-f569eb7cf519",
   "metadata": {},
   "source": [
    "## Load SNOTEL Sites"
   ]
  },
  {
   "cell_type": "code",
   "execution_count": null,
   "id": "5117d40c-02f3-4f7f-b6be-9af42c380255",
   "metadata": {},
   "outputs": [],
   "source": [
    "# Load list of SNOTEL sites with available data\n",
    "sites_df = pd.read_csv(sites_df_dir+\"sites_df.csv\", index_col='Unnamed: 0')"
   ]
  },
  {
   "cell_type": "code",
   "execution_count": null,
   "id": "facbca6c-4dd2-4563-b29d-770b5fc1ebc8",
   "metadata": {},
   "outputs": [],
   "source": [
    "sites_df['geometry'] = sites_df['geometry'].apply(wkt.loads)"
   ]
  },
  {
   "cell_type": "code",
   "execution_count": null,
   "id": "d0f3f104-b411-45c2-aad3-7f4001812278",
   "metadata": {},
   "outputs": [],
   "source": [
    "# Convert to a Geopandas gdf\n",
    "sites_gdf = gpd.GeoDataFrame(sites_df, crs='EPSG:4326')"
   ]
  },
  {
   "cell_type": "code",
   "execution_count": null,
   "id": "184f757d-e71d-463d-a27e-4729ad4c48c9",
   "metadata": {},
   "outputs": [],
   "source": []
  },
  {
   "cell_type": "code",
   "execution_count": null,
   "id": "70432144-dd90-47a0-96df-687d856a37a4",
   "metadata": {},
   "outputs": [],
   "source": [
    "# Get shapefile for Upper Colorado Riber Basin (UCRB)\n",
    "uc_shp = \"/global/cscratch1/sd/yum/swe/Upper_Colorado_River_Basin_Boundary/Upper_Colorado_River_Basin_Boundary.shp\"\n",
    "\n",
    "# Read UCRB shapefile\n",
    "gm_poly_gdf = gpd.read_file(uc_shp, encoding=\"utf-8\")\n",
    "\n",
    "# Get bounds of UCRB\n",
    "gm_poly_geom = gm_poly_gdf.iloc[0].geometry\n",
    "\n",
    "# Determine sites in UCRB\n",
    "sites_idx = sites_gdf.intersects(gm_poly_geom)\n",
    "\n",
    "# Subset df to sites in UCRB\n",
    "gm_snotel_sites = sites_gdf.loc[sites_idx]"
   ]
  },
  {
   "cell_type": "code",
   "execution_count": null,
   "id": "3e24e02f-287a-4753-9163-464323d44a0a",
   "metadata": {},
   "outputs": [],
   "source": [
    "gm_snotel_sites"
   ]
  },
  {
   "cell_type": "code",
   "execution_count": null,
   "id": "ce9de73c-68fd-4511-bf46-05ed291886c2",
   "metadata": {},
   "outputs": [],
   "source": []
  },
  {
   "cell_type": "markdown",
   "id": "f3ff547c-9246-4291-a826-7544359b2259",
   "metadata": {},
   "source": [
    "## Plot SNOTEL (SWE, P, T)"
   ]
  },
  {
   "cell_type": "code",
   "execution_count": null,
   "id": "372a3a41-2ea8-4758-a8ad-459fa159aad4",
   "metadata": {},
   "outputs": [],
   "source": [
    "# add columns\n",
    "apr1_swe = []\n",
    "apr1_pr = []\n",
    "apr1_temp = []"
   ]
  },
  {
   "cell_type": "code",
   "execution_count": null,
   "id": "d0937809-2cd5-4d80-8d08-79009e212602",
   "metadata": {},
   "outputs": [],
   "source": [
    "apr1_idx = 90    # apr 1 is 90th day of year"
   ]
  },
  {
   "cell_type": "code",
   "execution_count": null,
   "id": "913eee41-8268-43c0-9699-26e7e7b64a2f",
   "metadata": {
    "tags": []
   },
   "outputs": [],
   "source": [
    "for idx, row in gm_snotel_sites.iterrows():\n",
    "    print(idx)\n",
    "    if os.path.isfile(sntl_data_dir+str(row['code'])+'_concise.csv'):    # if file exists\n",
    "        df = pd.read_csv(sntl_data_dir+str(row['code'])+'_concise.csv', index_col='Unnamed: 0')\n",
    "        df['datetime'] = pd.to_datetime(df['datetime'])\n",
    "        \n",
    "        if (4 in df['datetime'].dt.month.values) and (1 in df['datetime'].dt.day.values):   # if april 1 exists\n",
    "            swe = pd.Series(df['snotel_swe'].values, index=df['datetime'])\n",
    "            pr = pd.Series(df['snotel_pr'].values, index=df['datetime'])\n",
    "            temp = pd.Series(df['snotel_temp'].values, index=df['datetime'])\n",
    "\n",
    "            site_n = len(swe.groupby([lambda x: x.year]).count())\n",
    "\n",
    "            swe_daily_sum = swe.groupby([lambda x: x.month, lambda x: x.day]).sum()\n",
    "            swe_apr1_mean = swe_daily_sum.iloc[apr1_idx - 1] / (site_n-1)\n",
    "            pr_daily_sum = pr.groupby([lambda x: x.month, lambda x: x.day]).sum()\n",
    "            pr_apr1_mean = pr_daily_sum.iloc[apr1_idx - 1] / (site_n-1)\n",
    "            temp_daily_sum = temp.groupby([lambda x: x.month, lambda x: x.day]).sum()\n",
    "            temp_apr1_mean = temp_daily_sum.iloc[apr1_idx - 1] / (site_n-1)\n",
    "\n",
    "            apr1_swe.append(swe_apr1_mean)\n",
    "            apr1_pr.append(pr_apr1_mean)\n",
    "            apr1_temp.append(temp_apr1_mean)\n",
    "            \n",
    "        else:\n",
    "            apr1_swe.append(np.nan)\n",
    "            apr1_pr.append(np.nan)\n",
    "            apr1_temp.append(np.nan)\n",
    "            \n",
    "    else:\n",
    "        apr1_swe.append(np.nan)\n",
    "        apr1_pr.append(np.nan)\n",
    "        apr1_temp.append(np.nan)\n",
    "    # break"
   ]
  },
  {
   "cell_type": "code",
   "execution_count": null,
   "id": "86a61ce4-e713-4431-a9f4-1f61af002bf3",
   "metadata": {},
   "outputs": [],
   "source": [
    "gm_snotel_sites['apr1_swe'] = apr1_swe\n",
    "gm_snotel_sites['apr1_pr'] = apr1_pr\n",
    "gm_snotel_sites['apr1_temp'] = apr1_temp"
   ]
  },
  {
   "cell_type": "code",
   "execution_count": null,
   "id": "8c589fc1-530f-4cad-bce6-a2a83e8bb482",
   "metadata": {},
   "outputs": [],
   "source": [
    "# Average Apr 1 SNOTEL SWE\n",
    "f, ax = plt.subplots(figsize=(10,6))\n",
    "gm_poly_gdf.plot(ax=ax, facecolor=\"none\", edgecolor='black', lw=1.5)\n",
    "gm_snotel_sites.plot(ax=ax, column='apr1_swe', cmap='inferno', legend=True)\n",
    "ctx.add_basemap(ax=ax, crs=gm_snotel_sites.crs, source=ctx.providers.Stamen.Terrain)\n",
    "ax.set_title('SNOTEL SWE (mm)')\n",
    "# plt.savefig(save_dir+'snotel_swe.png', dpi=300)"
   ]
  },
  {
   "cell_type": "code",
   "execution_count": null,
   "id": "ad2549e6-63f2-4031-9e35-9cf28b482f1d",
   "metadata": {},
   "outputs": [],
   "source": [
    "# Average Apr 1 SNOTEL Precipitation\n",
    "f, ax = plt.subplots(figsize=(10,6))\n",
    "gm_poly_gdf.plot(ax=ax, facecolor=\"none\", edgecolor='black', lw=1.5)\n",
    "gm_snotel_sites.plot(ax=ax, column='apr1_pr', legend=True, vmin=0, vmax=9.5)\n",
    "ctx.add_basemap(ax=ax, crs=gm_snotel_sites.crs, source=ctx.providers.Stamen.Terrain)\n",
    "ax.set_title('SNOTEL Precipitation (mm)')\n",
    "# plt.savefig(save_dir+'snotel_pr.png', dpi=300)"
   ]
  },
  {
   "cell_type": "code",
   "execution_count": null,
   "id": "b73fb8b0-7b99-44ba-ac81-d9e8db9e8c64",
   "metadata": {},
   "outputs": [],
   "source": [
    "# Average Apr 1 SNOTEL Temperatre\n",
    "f, ax = plt.subplots(figsize=(10,6))\n",
    "gm_poly_gdf.plot(ax=ax, facecolor=\"none\", edgecolor='black', lw=1.5)\n",
    "gm_snotel_sites.plot(ax=ax, column='apr1_temp', cmap='plasma', legend=True, vmin=-8.5, vmax=17)\n",
    "ctx.add_basemap(ax=ax, crs=gm_snotel_sites.crs, source=ctx.providers.Stamen.Terrain)\n",
    "ax.set_title('SNOTEL Temperature (degC)')\n",
    "# plt.savefig(save_dir+'snotel_temp.png', dpi=300)"
   ]
  },
  {
   "cell_type": "code",
   "execution_count": null,
   "id": "08d695b1-3b5e-4977-b3fd-23dfe615990a",
   "metadata": {},
   "outputs": [],
   "source": []
  },
  {
   "cell_type": "markdown",
   "id": "d7a0b12b-e271-4df5-b0e6-61ed947b36be",
   "metadata": {},
   "source": [
    "## Plot PRISM (P, T)"
   ]
  },
  {
   "cell_type": "code",
   "execution_count": null,
   "id": "3650fd6f-0e3a-4746-be42-9fd8a0fcfd58",
   "metadata": {},
   "outputs": [],
   "source": [
    "# Get UCRB bounds\n",
    "yy, xx = gm_poly_geom.exterior.coords.xy\n",
    "xmin, xmax = float(np.min(xx)), float(np.max(xx))\n",
    "ymin, ymax = float(np.min(yy)), float(np.max(yy))"
   ]
  },
  {
   "cell_type": "code",
   "execution_count": null,
   "id": "892cd76c-dda6-4bb7-8304-0eced155132e",
   "metadata": {
    "tags": []
   },
   "outputs": [],
   "source": [
    "for filename in sorted(os.listdir(prism_data_dir)):\n",
    "    print(filename)\n",
    "    file_year = int(filename[-7:-3])\n",
    "    # load precip file\n",
    "    if '_PR_' in filename:\n",
    "        if start_date.year <= file_year <= end_date.year:\n",
    "            # print(filename, str(file_year))\n",
    "            prism_pr_ds = xr.open_dataset(prism_data_dir+filename)\n",
    "            if file_year == start_date.year:\n",
    "                prism_pr_da = prism_pr_ds.PPT\n",
    "                prism_pr_ucrb_da = prism_pr_da.sel(time=datetime(file_year,4,1), lat=slice(xmin,xmax), lon=slice(ymin,ymax))   # spatial sum\n",
    "                # prism_pr_ucrb_da = prism_pr_da.sel(lat=slice(xmin,xmax), lon=slice(ymin,ymax))   # spatial sum\n",
    "                prism_pr_ucrb_sum = prism_pr_ucrb_da.copy()\n",
    "                # prism_pr_ucrb_sum = prism_pr_ucrb_da.sum(dim=['time'])\n",
    "                # break\n",
    "            else:\n",
    "                prism_pr_da = prism_pr_ds.PPT\n",
    "                prism_pr_ucrb_da = prism_pr_da.sel(time=datetime(file_year,4,1), lat=slice(xmin,xmax), lon=slice(ymin,ymax))   # spatial sum\n",
    "                # prism_pr_ucrb_da = prism_pr_da.sel(lat=slice(xmin,xmax), lon=slice(ymin,ymax))   # spatial sum\n",
    "                prism_pr_ucrb_sum += prism_pr_ucrb_da.copy()\n",
    "                # prism_pr_ucrb_sum += prism_pr_ucrb_da.sum(dim=['time'])\n",
    "\n",
    "    # load temp file\n",
    "    if '_TEMP_' in filename:\n",
    "        if start_date.year <= file_year <= end_date.year:\n",
    "            # print(filename, str(file_year))\n",
    "            prism_temp_ds = xr.open_dataset(prism_data_dir+filename)\n",
    "            if file_year == start_date.year:\n",
    "                prism_temp_da = prism_temp_ds.TEMP\n",
    "                prism_temp_ucrb_da = prism_temp_da.sel(time=datetime(file_year,4,1), lat=slice(xmin,xmax), lon=slice(ymin,ymax))   # spatial sum\n",
    "                # prism_temp_ucrb_da = prism_temp_da.sel(lat=slice(xmin,xmax), lon=slice(ymin,ymax))   # spatial sum\n",
    "                prism_temp_ucrb_sum = prism_temp_ucrb_da.copy()\n",
    "                # prism_temp_ucrb_sum = prism_temp_ucrb_da.sum(dim=['time'])\n",
    "            else:\n",
    "                prism_temp_da = prism_temp_ds.TEMP\n",
    "                prism_temp_ucrb_da = prism_temp_da.sel(time=datetime(file_year,4,1), lat=slice(xmin,xmax), lon=slice(ymin,ymax))   # spatial sum\n",
    "                # prism_temp_ucrb_da = prism_temp_da.sel(lat=slice(xmin,xmax), lon=slice(ymin,ymax))   # spatial sum\n",
    "                prism_temp_ucrb_sum += prism_temp_ucrb_da.copy()\n",
    "                # prism_temp_ucrb_sum += prism_temp_ucrb_da.sum(dim=['time'])"
   ]
  },
  {
   "cell_type": "code",
   "execution_count": null,
   "id": "6c03ccc2-1dae-4667-bbb6-65e4c511ac63",
   "metadata": {},
   "outputs": [],
   "source": [
    "prism_pr_ucrb_mean = prism_pr_ucrb_sum / n_yrs"
   ]
  },
  {
   "cell_type": "code",
   "execution_count": null,
   "id": "3cba2b24-6f00-4f0f-b099-231cba32cbf7",
   "metadata": {},
   "outputs": [],
   "source": [
    "prism_temp_ucrb_mean = prism_temp_ucrb_sum / n_yrs"
   ]
  },
  {
   "cell_type": "code",
   "execution_count": null,
   "id": "f0674759-5262-40f7-ad0a-b1652df97406",
   "metadata": {},
   "outputs": [],
   "source": [
    "f, ax = plt.subplots(figsize=(10,6))\n",
    "prism_pr_ucrb_mean.plot(ax=ax, vmin=0, vmax=9.5, cbar_kwargs={'label':''})\n",
    "gm_poly_gdf.plot(ax=ax, facecolor=\"none\", edgecolor='black', lw=1.5)\n",
    "ctx.add_basemap(ax=ax, crs=gm_snotel_sites.crs, source=ctx.providers.Stamen.Terrain)\n",
    "plt.title('PRISM Precipitation (mm)')\n",
    "# plt.savefig(f'{save_dir}prism_pr.png', dpi=300)"
   ]
  },
  {
   "cell_type": "code",
   "execution_count": null,
   "id": "482670e8-f263-4a27-be40-00156b9409ad",
   "metadata": {},
   "outputs": [],
   "source": [
    "f, ax = plt.subplots(figsize=(10,6))\n",
    "prism_temp_ucrb_mean.plot(ax=ax, cmap='plasma', vmin=-8.5, vmax=17, cbar_kwargs={'label':''})\n",
    "gm_poly_gdf.plot(ax=ax, facecolor=\"none\", edgecolor='black', lw=1.5)\n",
    "ctx.add_basemap(ax=ax, crs=gm_snotel_sites.crs, source=ctx.providers.Stamen.Terrain)\n",
    "plt.title('PRISM Temperature (degC)')\n",
    "# plt.savefig(f'{save_dir}prism_temp.png', dpi=300)"
   ]
  },
  {
   "cell_type": "code",
   "execution_count": null,
   "id": "63bcae27-22d4-4a65-9239-4ab49de6449b",
   "metadata": {},
   "outputs": [],
   "source": []
  },
  {
   "cell_type": "markdown",
   "id": "fa2ec40b-7a9e-4862-bbc8-8202adebae0d",
   "metadata": {},
   "source": [
    "## Plot SNOTEL and PRISM on Common Figure"
   ]
  },
  {
   "cell_type": "code",
   "execution_count": null,
   "id": "d3f7b324-c470-4506-a774-ecc01cd26adc",
   "metadata": {},
   "outputs": [],
   "source": [
    "min_pr, max_pr = min(np.nanmin(gm_snotel_sites['apr1_pr']), np.min(prism_pr_ucrb_mean)), max(np.nanmax(gm_snotel_sites['apr1_pr']), np.max(prism_pr_ucrb_mean))\n",
    "min_temp, max_temp = min(np.nanmin(gm_snotel_sites['apr1_temp']), np.min(prism_temp_ucrb_mean)).item(), max(np.nanmax(gm_snotel_sites['apr1_temp']), np.max(prism_temp_ucrb_mean)).item()"
   ]
  },
  {
   "cell_type": "code",
   "execution_count": null,
   "id": "baa19013-3e81-44e4-a2c9-a8be8a5f79e7",
   "metadata": {},
   "outputs": [],
   "source": [
    "print(min_pr, max_pr, min_temp, max_temp)"
   ]
  },
  {
   "cell_type": "code",
   "execution_count": null,
   "id": "f4852df4-5288-46ab-8ac1-f06ef4c63f0e",
   "metadata": {},
   "outputs": [],
   "source": [
    "# Average Apr 1 SNOTEL SWE\n",
    "f, axes = plt.subplots(nrows=2, ncols=3, figsize=(22,14))\n",
    "gm_poly_gdf.plot(ax=axes[0,0], facecolor=\"none\", edgecolor='black', lw=1.5)\n",
    "gm_poly_gdf.plot(ax=axes[0,1], facecolor=\"none\", edgecolor='black', lw=1.5)\n",
    "gm_poly_gdf.plot(ax=axes[0,2], facecolor=\"none\", edgecolor='black', lw=1.5)\n",
    "gm_snotel_sites.plot(ax=axes[0,0], column='apr1_swe', cmap='inferno', legend=True)\n",
    "gm_snotel_sites.plot(ax=axes[0,1], column='apr1_pr', vmin=min_pr, vmax=max_pr, legend=True)\n",
    "gm_snotel_sites.plot(ax=axes[0,2], column='apr1_temp', cmap='plasma', vmin=min_temp, vmax=max_temp, legend=True)\n",
    "prism_pr_ucrb_mean.plot(ax=axes[1,1], vmin=min_pr, vmax=max_pr, cbar_kwargs={'label':''})\n",
    "prism_temp_ucrb_mean.plot(ax=axes[1,2], cmap='plasma', vmin=min_temp, vmax=max_temp, cbar_kwargs={'label':''})\n",
    "gm_poly_gdf.plot(ax=axes[1,1], facecolor=\"none\", edgecolor='black', lw=1.5)\n",
    "gm_poly_gdf.plot(ax=axes[1,2], facecolor=\"none\", edgecolor='black', lw=1.5)\n",
    "ctx.add_basemap(ax=axes[0,0], crs=gm_snotel_sites.crs, source=ctx.providers.Stamen.Terrain)\n",
    "ctx.add_basemap(ax=axes[0,1], crs=gm_snotel_sites.crs, source=ctx.providers.Stamen.Terrain)\n",
    "ctx.add_basemap(ax=axes[0,2], crs=gm_snotel_sites.crs, source=ctx.providers.Stamen.Terrain)\n",
    "ctx.add_basemap(ax=axes[1,1], crs=gm_poly_gdf.crs, source=ctx.providers.Stamen.Terrain)\n",
    "ctx.add_basemap(ax=axes[1,2], crs=gm_poly_gdf.crs, source=ctx.providers.Stamen.Terrain)\n",
    "axes[1,0].axis('off')\n",
    "axes[0,0].set_title('SNOTEL SWE (mm)', fontsize=16)\n",
    "axes[0,1].set_title('SNOTEL PR (mm)', fontsize=16)\n",
    "axes[0,2].set_title('SNOTEL TEMP (degC)', fontsize=16)\n",
    "axes[1,1].set_title('PRISM PR (mm)', fontsize=16)\n",
    "axes[1,2].set_title('PRISM TEMP (degC)', fontsize=16)\n",
    "plt.suptitle('UA SWE Data Sources \\n (April 1 SWE, PR, TEMP averaged over years for each location)', fontsize=22)\n",
    "plt.subplots_adjust(top=0.9)\n",
    "# plt.tight_layout()\n",
    "plt.savefig(save_dir+'ua_swe_input_data.png', dpi=300)"
   ]
  },
  {
   "cell_type": "code",
   "execution_count": null,
   "id": "ca3b5963-6398-4cf7-b6b5-a37be1044f52",
   "metadata": {},
   "outputs": [],
   "source": []
  }
 ],
 "metadata": {
  "kernelspec": {
   "display_name": "MyEnv",
   "language": "python",
   "name": "myenv"
  },
  "language_info": {
   "codemirror_mode": {
    "name": "ipython",
    "version": 3
   },
   "file_extension": ".py",
   "mimetype": "text/x-python",
   "name": "python",
   "nbconvert_exporter": "python",
   "pygments_lexer": "ipython3",
   "version": "3.9.11"
  }
 },
 "nbformat": 4,
 "nbformat_minor": 5
}