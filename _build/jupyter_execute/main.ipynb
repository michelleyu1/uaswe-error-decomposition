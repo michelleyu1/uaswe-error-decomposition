{
 "cells": [
  {
   "cell_type": "markdown",
   "id": "f2002dfd-68af-4385-8592-e8e93cb8b023",
   "metadata": {},
   "source": [
    "# Decomposing Errors in Gridded Snow Water Equivalent Products in the Upper Colorado River Basin"
   ]
  },
  {
   "cell_type": "code",
   "execution_count": 1,
   "id": "60e23dd5-ce3f-4539-b4f9-1a155cfb094c",
   "metadata": {},
   "outputs": [],
   "source": [
    "import pandas as pd\n",
    "from IPython.display import Image"
   ]
  },
  {
   "cell_type": "markdown",
   "id": "9f0730c2-2ee1-4edd-8c4b-e67920bbd0ee",
   "metadata": {},
   "source": [
    "## Introduction"
   ]
  },
  {
   "cell_type": "markdown",
   "id": "3e1da67e-88a6-45d9-bc75-4d524c6a7e59",
   "metadata": {},
   "source": []
  },
  {
   "cell_type": "markdown",
   "id": "8babc67c-68da-4e93-9b9c-4b9188431aa0",
   "metadata": {},
   "source": [
    "### Annual Cycle of SWE"
   ]
  },
  {
   "cell_type": "code",
   "execution_count": null,
   "id": "a83a3f52-1c4c-4dd1-95f5-9a609e527205",
   "metadata": {},
   "outputs": [],
   "source": []
  },
  {
   "cell_type": "markdown",
   "id": "83608204-6c85-4c72-85f3-f8b672237110",
   "metadata": {},
   "source": [
    "## Data"
   ]
  },
  {
   "cell_type": "code",
   "execution_count": null,
   "id": "aefa8e81-9fa4-4dcb-bbb0-707fe8f7a281",
   "metadata": {},
   "outputs": [],
   "source": []
  },
  {
   "cell_type": "code",
   "execution_count": null,
   "id": "7cf4b050-3b31-4daf-a3e2-216b55130146",
   "metadata": {},
   "outputs": [],
   "source": []
  },
  {
   "cell_type": "markdown",
   "id": "e8935b6a-36bc-4129-bbbc-c669ef4867b9",
   "metadata": {},
   "source": [
    "## Study Area"
   ]
  },
  {
   "cell_type": "code",
   "execution_count": null,
   "id": "774b385b-7e60-40c3-8d5b-66aab7fcc569",
   "metadata": {},
   "outputs": [],
   "source": []
  },
  {
   "cell_type": "markdown",
   "id": "6becaa27-6531-4e4b-b2f1-7dc0fe7b9757",
   "metadata": {},
   "source": [
    "## UA SWE Reconstruction"
   ]
  },
  {
   "cell_type": "code",
   "execution_count": null,
   "id": "531536cf-2feb-4004-88a1-ad552f677c69",
   "metadata": {},
   "outputs": [],
   "source": []
  },
  {
   "cell_type": "code",
   "execution_count": null,
   "id": "5f291f20-f2d6-497e-bc94-4ed428378a7e",
   "metadata": {},
   "outputs": [],
   "source": []
  },
  {
   "cell_type": "code",
   "execution_count": null,
   "id": "8dbb9dbf-0b76-42b7-b459-b6f08afb4e62",
   "metadata": {},
   "outputs": [],
   "source": []
  },
  {
   "cell_type": "markdown",
   "id": "02af4c70-b37b-45e8-af3a-89baa67cab8c",
   "metadata": {},
   "source": [
    "## Sensitivity Analysis"
   ]
  },
  {
   "cell_type": "code",
   "execution_count": null,
   "id": "335a34be-5cf0-4c4b-8924-64c661068cb9",
   "metadata": {},
   "outputs": [],
   "source": []
  },
  {
   "cell_type": "code",
   "execution_count": null,
   "id": "67bd05d5-3348-42fe-aadf-7106f81443da",
   "metadata": {},
   "outputs": [],
   "source": []
  },
  {
   "cell_type": "code",
   "execution_count": null,
   "id": "32435b6d-666f-484d-b9d2-70b7e6ae8f21",
   "metadata": {},
   "outputs": [],
   "source": []
  },
  {
   "cell_type": "markdown",
   "id": "23dabb51-be5b-4c67-91a2-0219df9b9c39",
   "metadata": {},
   "source": [
    "## Error Decomposition"
   ]
  },
  {
   "cell_type": "code",
   "execution_count": null,
   "id": "cef2b43a-7244-41d5-9eb4-2e1b3a091fea",
   "metadata": {},
   "outputs": [],
   "source": []
  },
  {
   "cell_type": "code",
   "execution_count": null,
   "id": "bb24bcd6-3a10-48b5-93e1-515de9b195ef",
   "metadata": {},
   "outputs": [],
   "source": []
  },
  {
   "cell_type": "code",
   "execution_count": null,
   "id": "f4cb91d0-e972-4046-95c5-14f9cf9aa1cc",
   "metadata": {},
   "outputs": [],
   "source": []
  },
  {
   "cell_type": "markdown",
   "id": "987fd596-cc4f-4339-b5b1-63264a32b034",
   "metadata": {},
   "source": [
    "## Discussion & Conclusion"
   ]
  },
  {
   "cell_type": "code",
   "execution_count": null,
   "id": "dd20ada3-87d2-4d71-bac7-6541832c4550",
   "metadata": {},
   "outputs": [],
   "source": []
  },
  {
   "cell_type": "code",
   "execution_count": null,
   "id": "6d5a8271-e5e6-40a3-8ca1-afad411cf5ff",
   "metadata": {},
   "outputs": [],
   "source": []
  },
  {
   "cell_type": "code",
   "execution_count": null,
   "id": "5ef122ed-aab3-43df-936d-f846a3c42fa1",
   "metadata": {},
   "outputs": [],
   "source": []
  },
  {
   "cell_type": "markdown",
   "id": "d2243790-a6e0-4009-9e12-7ab1b81a767e",
   "metadata": {},
   "source": [
    "## References"
   ]
  },
  {
   "cell_type": "code",
   "execution_count": null,
   "id": "69367972-87ed-4db6-b342-018d0bdd4523",
   "metadata": {},
   "outputs": [],
   "source": []
  }
 ],
 "metadata": {
  "kernelspec": {
   "display_name": "NERSC Python",
   "language": "python",
   "name": "python3"
  },
  "language_info": {
   "codemirror_mode": {
    "name": "ipython",
    "version": 3
   },
   "file_extension": ".py",
   "mimetype": "text/x-python",
   "name": "python",
   "nbconvert_exporter": "python",
   "pygments_lexer": "ipython3",
   "version": "3.9.7"
  }
 },
 "nbformat": 4,
 "nbformat_minor": 5
}