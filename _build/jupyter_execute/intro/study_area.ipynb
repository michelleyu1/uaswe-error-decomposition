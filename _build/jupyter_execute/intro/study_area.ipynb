{
 "cells": [
  {
   "cell_type": "markdown",
   "id": "2c841198-39aa-4d72-8aa8-d1d0eefb94c6",
   "metadata": {},
   "source": [
    "# Study Area"
   ]
  },
  {
   "cell_type": "markdown",
   "id": "94cbf134-cadd-48b6-9928-3a2e01a9fda5",
   "metadata": {},
   "source": [
    "## Upper Colorado River Basin (UCRB)"
   ]
  },
  {
   "cell_type": "code",
   "execution_count": 1,
   "id": "3c787651-44fd-4824-9e71-25ca2e42d9cf",
   "metadata": {},
   "outputs": [
    {
     "ename": "ModuleNotFoundError",
     "evalue": "No module named 'contextily'",
     "output_type": "error",
     "traceback": [
      "\u001b[0;31m---------------------------------------------------------------------------\u001b[0m",
      "\u001b[0;31mModuleNotFoundError\u001b[0m                       Traceback (most recent call last)",
      "Input \u001b[0;32mIn [1]\u001b[0m, in \u001b[0;36m<cell line: 5>\u001b[0;34m()\u001b[0m\n\u001b[1;32m      3\u001b[0m \u001b[38;5;28;01mimport\u001b[39;00m \u001b[38;5;21;01mxarray\u001b[39;00m \u001b[38;5;28;01mas\u001b[39;00m \u001b[38;5;21;01mxr\u001b[39;00m\n\u001b[1;32m      4\u001b[0m \u001b[38;5;28;01mimport\u001b[39;00m \u001b[38;5;21;01mgeopandas\u001b[39;00m \u001b[38;5;28;01mas\u001b[39;00m \u001b[38;5;21;01mgpd\u001b[39;00m\n\u001b[0;32m----> 5\u001b[0m \u001b[38;5;28;01mimport\u001b[39;00m \u001b[38;5;21;01mcontextily\u001b[39;00m \u001b[38;5;28;01mas\u001b[39;00m \u001b[38;5;21;01mctx\u001b[39;00m\n\u001b[1;32m      6\u001b[0m \u001b[38;5;28;01mimport\u001b[39;00m \u001b[38;5;21;01mmatplotlib\u001b[39;00m\u001b[38;5;21;01m.\u001b[39;00m\u001b[38;5;21;01mpyplot\u001b[39;00m \u001b[38;5;28;01mas\u001b[39;00m \u001b[38;5;21;01mplt\u001b[39;00m\n",
      "\u001b[0;31mModuleNotFoundError\u001b[0m: No module named 'contextily'"
     ]
    }
   ],
   "source": [
    "import numpy as np\n",
    "import pandas as pd\n",
    "import xarray as xr\n",
    "import geopandas as gpd\n",
    "import contextily as ctx\n",
    "import matplotlib.pyplot as plt"
   ]
  },
  {
   "cell_type": "code",
   "execution_count": null,
   "id": "d23c7add-94a4-40dc-ad4c-4eb9e54abec6",
   "metadata": {},
   "outputs": [],
   "source": [
    "save_dir = '/global/cfs/cdirs/dasrepo/yum/swe/uaswe-error-decomposition/figures/'"
   ]
  },
  {
   "cell_type": "markdown",
   "id": "d9d0889c-a154-4fb6-959c-632bf5be6f96",
   "metadata": {},
   "source": [
    "### Load UCRB shapefile to get region bounds"
   ]
  },
  {
   "cell_type": "code",
   "execution_count": null,
   "id": "99584cd0-32a4-4441-9777-5709d5b85175",
   "metadata": {},
   "outputs": [],
   "source": [
    "# Get shapefile for Upper Colorado Riber Basin (UCRB)\n",
    "uc_shp = \"/global/cscratch1/sd/yum/swe/Upper_Colorado_River_Basin_Boundary/Upper_Colorado_River_Basin_Boundary.shp\"\n",
    "\n",
    "# Read UCRB shapefile\n",
    "gm_poly_gdf = gpd.read_file(uc_shp, encoding=\"utf-8\")\n",
    "\n",
    "# Get bounds of UCRB\n",
    "gm_poly_geom = gm_poly_gdf.iloc[0].geometry\n",
    "\n",
    "# Determine sites in UCRB\n",
    "# sites_idx = sites_gdf.intersects(gm_poly_geom)\n",
    "\n",
    "# Subset df to sites in UCRB\n",
    "# gm_snotel_sites = sites_gdf.loc[sites_idx]"
   ]
  },
  {
   "cell_type": "markdown",
   "id": "8d13d8fa-bebf-4821-aac6-de4f351605eb",
   "metadata": {},
   "source": [
    "### Plot UCRB boundary over map"
   ]
  },
  {
   "cell_type": "code",
   "execution_count": null,
   "id": "be3c3466-6fc5-483f-9cc2-882a1d4e6e6c",
   "metadata": {},
   "outputs": [],
   "source": [
    "f, ax = plt.subplots(figsize=(8,8))\n",
    "gm_poly_gdf.plot(ax=ax, facecolor=\"none\", edgecolor='black', lw=2.5)\n",
    "# gm_snotel_sites.plot(ax=ax, column='elevation_m', markersize=100, edgecolor='k', cmap='inferno', legend=True, legend_kwds={'label':'Elevation (m)'})\n",
    "ctx.add_basemap(ax=ax, crs=gm_poly_gdf.crs,source=ctx.providers.Stamen.Terrain)    # add/plot basemap\n",
    "# ctx.add_basemap(ax=ax, crs=gm_snotel_sites.crs, source=ctx.providers.Stamen.Terrain)\n",
    "ax.set_title('Study Area: \\n Upper Colorado River Basin (UCRB)', fontsize=21)\n",
    "plt.xticks(fontsize=16)\n",
    "plt.yticks(fontsize=16)\n",
    "plt.tight_layout()\n",
    "plt.savefig(save_dir+'ucrb.png', dpi=300)"
   ]
  },
  {
   "cell_type": "code",
   "execution_count": null,
   "id": "cb2e8d53-c999-4f3e-affa-838d7d9ccd98",
   "metadata": {},
   "outputs": [],
   "source": []
  }
 ],
 "metadata": {
  "kernelspec": {
   "display_name": "MyEnv",
   "language": "python",
   "name": "myenv"
  },
  "language_info": {
   "codemirror_mode": {
    "name": "ipython",
    "version": 3
   },
   "file_extension": ".py",
   "mimetype": "text/x-python",
   "name": "python",
   "nbconvert_exporter": "python",
   "pygments_lexer": "ipython3",
   "version": "3.9.11"
  }
 },
 "nbformat": 4,
 "nbformat_minor": 5
}