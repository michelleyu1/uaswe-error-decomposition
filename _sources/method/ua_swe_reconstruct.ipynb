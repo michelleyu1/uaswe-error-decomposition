{
 "cells": [
  {
   "cell_type": "markdown",
   "id": "063dc9c3-ce2b-4c87-86d7-3ce0120356d1",
   "metadata": {},
   "source": [
    "# UA SWE Product Reconstruction"
   ]
  },
  {
   "cell_type": "code",
   "execution_count": null,
   "id": "abb434d5-6475-4d63-b64b-154294afd1d7",
   "metadata": {},
   "outputs": [],
   "source": []
  }
 ],
 "metadata": {
  "kernelspec": {
   "display_name": "NERSC Python",
   "language": "python",
   "name": "python3"
  },
  "language_info": {
   "codemirror_mode": {
    "name": "ipython",
    "version": 3
   },
   "file_extension": ".py",
   "mimetype": "text/x-python",
   "name": "python",
   "nbconvert_exporter": "python",
   "pygments_lexer": "ipython3",
   "version": "3.9.7"
  }
 },
 "nbformat": 4,
 "nbformat_minor": 5
}
